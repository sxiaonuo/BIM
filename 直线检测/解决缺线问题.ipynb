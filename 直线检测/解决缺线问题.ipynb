{
 "cells": [
  {
   "cell_type": "code",
   "execution_count": null,
   "id": "initial_id",
   "metadata": {
    "collapsed": true
   },
   "outputs": [],
   "source": ""
  },
  {
   "metadata": {
    "ExecuteTime": {
     "end_time": "2025-03-09T13:14:02.582030Z",
     "start_time": "2025-03-09T13:14:02.544910Z"
    }
   },
   "cell_type": "code",
   "source": [
    "import math\n",
    "\n",
    "def convex_hull(points):\n",
    "    \"\"\" 计算凸包（Andrew's monotone chain算法） \"\"\"\n",
    "    points = list(set(map(tuple, points)))  # 去重\n",
    "    if len(points) <= 1:\n",
    "        return points\n",
    "    points = sorted(points)  # 按x排序，x相同则按y排序\n",
    "\n",
    "    def cross(o, a, b):\n",
    "        \"\"\" 计算叉积：(a - o) × (b - o) \"\"\"\n",
    "        return (a[0]-o[0])*(b[1]-o[1]) - (a[1]-o[1])*(b[0]-o[0])\n",
    "\n",
    "    # 构建下凸包和上凸包\n",
    "    lower, upper = [], []\n",
    "    for p in points:\n",
    "        while len(lower) >= 2 and cross(lower[-2], lower[-1], p) <= 0:\n",
    "            lower.pop()\n",
    "        lower.append(p)\n",
    "    for p in reversed(points):\n",
    "        while len(upper) >= 2 and cross(upper[-2], upper[-1], p) <= 0:\n",
    "            upper.pop()\n",
    "        upper.append(p)\n",
    "\n",
    "    # 合并并去除重复端点\n",
    "    hull = lower[:-1] + upper[:-1]\n",
    "    return hull if len(hull) > 1 else hull * 2  # 处理共线情况\n",
    "\n",
    "def convex_hull_diameter(hull):\n",
    "    \"\"\"\n",
    "    计算凸包直径及端点\n",
    "    返回： (最大距离, 点1坐标, 点2坐标)\n",
    "    \"\"\"\n",
    "    n = len(hull)\n",
    "    if n <= 1:\n",
    "        return (0.0, hull[0], hull[0]) if n == 1 else (0.0, None, None)\n",
    "    if n == 2:\n",
    "        return (math.dist(hull[0], hull[1]), hull[0], hull[1])\n",
    "\n",
    "    max_dist = 0.0\n",
    "    point1, point2 = hull[0], hull[1]  # 初始端点\n",
    "    j = 1  # 对踵点指针\n",
    "\n",
    "    for i in range(n):\n",
    "        next_i = (i + 1) % n\n",
    "\n",
    "        # 旋转卡壳寻找对踵点\n",
    "        while True:\n",
    "            next_j = (j + 1) % n\n",
    "            # 比较移动j后的叉积变化\n",
    "            if cross(hull[i], hull[next_i], hull[next_j]) > cross(hull[i], hull[next_i], hull[j]):\n",
    "                j = next_j\n",
    "            else:\n",
    "                break\n",
    "\n",
    "        # 计算当前对踵点对的距离\n",
    "        current_dist = math.dist(hull[i], hull[j])\n",
    "        if current_dist > max_dist:\n",
    "            max_dist = current_dist\n",
    "            point1, point2 = hull[i], hull[j]\n",
    "\n",
    "        # 检查下一个边端点与当前j的距离\n",
    "        current_dist_next = math.dist(hull[next_i], hull[j])\n",
    "        if current_dist_next > max_dist:\n",
    "            max_dist = current_dist_next\n",
    "            point1, point2 = hull[next_i], hull[j]\n",
    "\n",
    "    return (max_dist, point1, point2)\n",
    "\n",
    "# 测试用例\n",
    "if __name__ == \"__main__\":\n",
    "    # 测试1：凸四边形\n",
    "    test_points1 = [(0,0), (2,0), (1,1), (2,2), (0,2), (1,3)]\n",
    "    hull = convex_hull(test_points1)\n",
    "    diameter, p1, p2 = convex_hull_diameter(hull)\n",
    "    print(f\"Diameter: {diameter:.3f}, Points: {p1} ↔ {p2}\")\n",
    "    # 输出：Diameter: 3.162, Points: (0, 0) ↔ (1, 3)\n",
    "\n",
    "    # 测试2：共线点\n",
    "    test_points2 = [(x, 2*x+1) for x in range(5)]\n",
    "    hull = convex_hull(test_points2)\n",
    "    diameter, p1, p2 = convex_hull_diameter(hull)\n",
    "    print(f\"Diameter: {diameter:.3f}, Points: {p1} ↔ {p2}\")\n",
    "    # 输出：Diameter: 8.944, Points: (0, 1) ↔ (4, 9)"
   ],
   "id": "f5f661a614d2d07c",
   "outputs": [
    {
     "name": "stdout",
     "output_type": "stream",
     "text": [
      "Diameter: 3.162, Points: (0, 0) ↔ (1, 3)\n",
      "Diameter: 8.944, Points: (0, 1) ↔ (4, 9)\n"
     ]
    }
   ],
   "execution_count": 3
  },
  {
   "metadata": {},
   "cell_type": "code",
   "outputs": [],
   "execution_count": null,
   "source": "",
   "id": "c822467bbc844b9"
  }
 ],
 "metadata": {
  "kernelspec": {
   "display_name": "Python 3",
   "language": "python",
   "name": "python3"
  },
  "language_info": {
   "codemirror_mode": {
    "name": "ipython",
    "version": 2
   },
   "file_extension": ".py",
   "mimetype": "text/x-python",
   "name": "python",
   "nbconvert_exporter": "python",
   "pygments_lexer": "ipython2",
   "version": "2.7.6"
  }
 },
 "nbformat": 4,
 "nbformat_minor": 5
}
