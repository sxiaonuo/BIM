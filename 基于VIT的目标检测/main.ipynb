{
 "cells": [
  {
   "cell_type": "code",
   "id": "initial_id",
   "metadata": {
    "collapsed": true,
    "ExecuteTime": {
     "end_time": "2025-03-25T06:21:40.779102Z",
     "start_time": "2025-03-25T06:21:02.061003Z"
    }
   },
   "source": [
    "import os\n",
    "\n",
    "import cv2\n",
    "from PIL import Image\n",
    "import random\n",
    "import numpy as np\n",
    "from utils.detect_line import detect_lines\n",
    "from utils.detect_connect import detect_connect, get_max_coord, get_min_coord\n",
    "from utils.hot import hot_detect_line, hot_dectect_connect\n",
    "from tqdm import tqdm\n",
    "\n",
    "import torch\n",
    "\n",
    "from VIT.predict import predict\n",
    "from VIT.vit import ViT\n",
    "\n",
    "import json\n",
    "\n",
    "def calculate_iou(bbox1, bbox2, cls1, cls2):\n",
    "    if cls1 != cls2:\n",
    "        return 0\n",
    "    \"\"\"\n",
    "    计算两个框的交并比（IoU）。\n",
    "\n",
    "    参数：\n",
    "    bbox1: 第一个框的坐标，格式为 (x0, y0, x1, y1)\n",
    "    bbox2: 第二个框的坐标，格式为 (x0, y0, x1, y1)\n",
    "\n",
    "    返回值：\n",
    "    iou: 两个框的交并比\n",
    "    \"\"\"\n",
    "    # 计算两个框的相交部分的坐标\n",
    "    inter_x0 = max(bbox1[0], bbox2[0])\n",
    "    inter_y0 = max(bbox1[1], bbox2[1])\n",
    "    inter_x1 = min(bbox1[2], bbox2[2])\n",
    "    inter_y1 = min(bbox1[3], bbox2[3])\n",
    "\n",
    "    # 计算相交部分的面积\n",
    "    inter_area = max(0, inter_x1 - inter_x0) * max(0, inter_y1 - inter_y0)\n",
    "\n",
    "    # 计算两个框的面积\n",
    "    bbox1_area = (bbox1[2] - bbox1[0]) * (bbox1[3] - bbox1[1])\n",
    "    bbox2_area = (bbox2[2] - bbox2[0]) * (bbox2[3] - bbox2[1])\n",
    "\n",
    "    # 计算交并比\n",
    "    iou = inter_area / (bbox1_area + bbox2_area - inter_area + 1e-6)  # 加上一个小数防止除零错误\n",
    "    on = inter_area / (bbox2_area + 1e-6)\n",
    "    # print(on)\n",
    "\n",
    "    return on\n",
    "\n",
    "def nms(bboxes, classes, scores, threshold=0.3):\n",
    "    \"\"\"\n",
    "    使用非极大值抑制（NMS）去除重叠的框。\n",
    "\n",
    "    参数：\n",
    "    bboxes: 框的坐标，每行一个框，格式为 (x0, y0, x1, y1)\n",
    "    classes: 每个框对应的类别\n",
    "    scores: 每个框的置信度分数\n",
    "    threshold: 重叠度阈值，小于该阈值的框会被保留，默认为 0.5\n",
    "\n",
    "    返回值：\n",
    "    selected_indices: 选中的框的索引列表\n",
    "    \"\"\"\n",
    "    # 按照置信度分数降序排序\n",
    "    sorted_indices = np.argsort(scores)[::-1]\n",
    "\n",
    "    selected_indices = []\n",
    "    while len(sorted_indices) > 0:\n",
    "        # 选择置信度最高的框\n",
    "        best_index = sorted_indices[0]\n",
    "        selected_indices.append(best_index)\n",
    "\n",
    "        # 计算当前选中框与其余框的交并比\n",
    "        ious = [calculate_iou(bboxes[best_index], bboxes[idx], classes[best_index], classes[idx]) for idx in sorted_indices[1:]]\n",
    "\n",
    "        # 去除重叠度高于阈值的框\n",
    "        indices_to_keep = np.where(np.array(ious) <= threshold)[0]\n",
    "        sorted_indices = sorted_indices[indices_to_keep + 1]\n",
    "    return selected_indices\n",
    "\n",
    "\n",
    "\"\"\"超参数\"\"\"\n",
    "img_name = 4\n",
    "padding = 20\n",
    "\n",
    "\"\"\"\"\"\"\n",
    "# 连通发现\n",
    "ori_img = cv2.imread(f'../static/img/{img_name}.png')\n",
    "groups = hot_dectect_connect(f'../static/img/{img_name}.png', None, None, 0, path='../static/record/')\n",
    "groups = [group for group in groups if len(group) >= 4]\n",
    "print(len(groups))\n",
    "\n",
    "# 检测\n",
    "group_patch = []\n",
    "for i, group in enumerate(tqdm(groups)):\n",
    "    max_x, max_y = get_max_coord(group)\n",
    "    min_x, min_y = get_min_coord(group)\n",
    "    group_patch.append([min_x, min_y, max_x, max_y])\n",
    "\n",
    "device = torch.device('cuda' if torch.cuda.is_available() else 'cpu')\n",
    "vit = ViT(in_channels=3, patch_size=16, emb_size=768, img_size=224, depth=12, n_classes=10).to(device)\n",
    "vit.load_state_dict(torch.load('../VIT/vit_model.pth'))\n",
    "\n",
    "res = []\n",
    "scores = []\n",
    "batch_size = 16\n",
    "for i in tqdm(range(0, len(group_patch), batch_size)):\n",
    "    batch_group_patch = group_patch[i:i + batch_size]\n",
    "    batch_img = []\n",
    "    for it in batch_group_patch:\n",
    "        img = ori_img[it[1] - padding:it[3] + padding, it[0] - padding:it[2] + padding]\n",
    "        batch_img.append(img)\n",
    "\n",
    "    a, score = predict(vit, batch_img, device)\n",
    "    res.extend(a)\n",
    "    scores.extend(score)\n",
    "print(len(group_patch), len(res), len(scores))\n",
    "\n"
   ],
   "outputs": [
    {
     "name": "stdout",
     "output_type": "stream",
     "text": [
      "正在重载 connect 4.png[None:None, None:None]\n",
      "2776\n"
     ]
    },
    {
     "name": "stderr",
     "output_type": "stream",
     "text": [
      "100%|██████████| 2776/2776 [00:00<00:00, 126225.17it/s]\n",
      "100%|██████████| 174/174 [00:34<00:00,  5.11it/s]"
     ]
    },
    {
     "name": "stdout",
     "output_type": "stream",
     "text": [
      "2776 2776 2776\n"
     ]
    },
    {
     "name": "stderr",
     "output_type": "stream",
     "text": [
      "\n"
     ]
    }
   ],
   "execution_count": 4
  },
  {
   "metadata": {
    "ExecuteTime": {
     "end_time": "2025-03-25T05:30:48.009030Z",
     "start_time": "2025-03-25T05:30:34.706493Z"
    }
   },
   "cell_type": "code",
   "source": [
    "target = [it for i, it in enumerate(group_patch) if res[i] == 1]\n",
    "scores = [it for i, it in enumerate(scores) if res[i] == 1]\n",
    "target = np.array(target)\n",
    "scores = np.array(scores)\n",
    "classes = np.ones_like(scores)\n",
    "keep = nms(target,classes, scores, 0.5)\n",
    "print(len(keep))\n",
    "\n",
    "\n",
    "for it in keep:\n",
    "    cv2.rectangle(ori_img, (target[it][0], target[it][1]), (target[it][2], target[it][3]), (255, 0, 0), 2)\n",
    "\n",
    "os.makedirs(\"workdir/run\", exist_ok=True)\n",
    "Image.fromarray(ori_img).save(\"workdir/run/0.png\")"
   ],
   "id": "a0d3b89fd7d7766a",
   "outputs": [
    {
     "name": "stdout",
     "output_type": "stream",
     "text": [
      "210\n"
     ]
    }
   ],
   "execution_count": 2
  },
  {
   "metadata": {
    "ExecuteTime": {
     "end_time": "2025-03-25T06:22:01.336286Z",
     "start_time": "2025-03-25T06:21:47.029355Z"
    }
   },
   "cell_type": "code",
   "source": [
    "target_groups = [it for i, it in enumerate(groups) if res[i] == 1]\n",
    "\n",
    "white = np.ones_like(ori_img, dtype=np.uint8) * 255\n",
    "for group in target_groups:\n",
    "    for line in group:\n",
    "        cv2.line(ori_img, line[0], line[1], (255, 0, 0), 1)\n",
    "Image.fromarray(ori_img).save(\"workdir/run/1.png\")"
   ],
   "id": "3019d4e19fd6303f",
   "outputs": [],
   "execution_count": 5
  },
  {
   "metadata": {},
   "cell_type": "code",
   "outputs": [],
   "execution_count": null,
   "source": "",
   "id": "bde6342292abda01"
  }
 ],
 "metadata": {
  "kernelspec": {
   "display_name": "Python 3",
   "language": "python",
   "name": "python3"
  },
  "language_info": {
   "codemirror_mode": {
    "name": "ipython",
    "version": 2
   },
   "file_extension": ".py",
   "mimetype": "text/x-python",
   "name": "python",
   "nbconvert_exporter": "python",
   "pygments_lexer": "ipython2",
   "version": "2.7.6"
  }
 },
 "nbformat": 4,
 "nbformat_minor": 5
}
