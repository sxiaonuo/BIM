{
 "cells": [
  {
   "cell_type": "code",
   "id": "initial_id",
   "metadata": {
    "collapsed": true,
    "ExecuteTime": {
     "end_time": "2025-02-27T09:23:56.981069Z",
     "start_time": "2025-02-27T09:23:56.727201Z"
    }
   },
   "source": [
    "import cv2\n",
    "import numpy as np\n",
    "from PIL import Image"
   ],
   "outputs": [],
   "execution_count": 1
  },
  {
   "metadata": {
    "ExecuteTime": {
     "end_time": "2025-02-27T11:27:21.988529Z",
     "start_time": "2025-02-27T11:27:21.970686Z"
    }
   },
   "cell_type": "code",
   "source": [
    "white = np.ones((256, 256, 3), dtype=np.uint8) * 255\n",
    "cv2.line(white, (10, 10), (10, 30), (0, 255, 0), 1)\n",
    "cv2.line(white, (10, 30), (10, 50), (255, 255, 0), 1)\n",
    "cv2.line(white, (10, 30), (30, 50), (0, 255, 0), 1)\n",
    "cv2.line(white, (32, 52), (70, 70), (0, 255, 0), 1)\n",
    "cv2.line(white, (100, 100), (100, 130), (0, 255, 0), 1)\n",
    "cv2.line(white, (110, 100), (110, 130), (0, 255, 0), 1)\n",
    "cv2.line(white, (80, 98), (110, 98), (0, 255, 0), 1)\n",
    "cv2.line(white, (220, 98), (115, 189), (0, 255, 0), 1)\n",
    "cv2.line(white, (115, 190), (115, 220), (0, 255, 0), 1)\n",
    "cv2.line(white, (225, 190), (225, 220), (0, 255, 0), 1)\n",
    "Image.fromarray(white).save('../static/img/self1.png')\n",
    "Image.fromarray(white)"
   ],
   "id": "5d80757d054d9caf",
   "outputs": [
    {
     "data": {
      "text/plain": [
       "<PIL.Image.Image image mode=RGB size=256x256>"
      ],
      "image/png": "[encoded data removed]",
      "image/jpeg": "[encoded data removed]"
     },
     "execution_count": 21,
     "metadata": {},
     "output_type": "execute_result"
    }
   ],
   "execution_count": 21
  },
  {
   "metadata": {
    "ExecuteTime": {
     "end_time": "2025-02-28T06:33:21.177139Z",
     "start_time": "2025-02-28T06:33:20.927126Z"
    }
   },
   "cell_type": "code",
   "source": [
    "import numpy as np\n",
    "(1, 2) + np.array([2, 3])"
   ],
   "id": "36fe1e699bdb290c",
   "outputs": [
    {
     "data": {
      "text/plain": [
       "array([3, 5])"
      ]
     },
     "execution_count": 3,
     "metadata": {},
     "output_type": "execute_result"
    }
   ],
   "execution_count": 3
  },
  {
   "metadata": {},
   "cell_type": "code",
   "outputs": [],
   "execution_count": null,
   "source": "",
   "id": "7b385ee63d007438"
  }
 ],
 "metadata": {
  "kernelspec": {
   "display_name": "Python 3",
   "language": "python",
   "name": "python3"
  },
  "language_info": {
   "codemirror_mode": {
    "name": "ipython",
    "version": 2
   },
   "file_extension": ".py",
   "mimetype": "text/x-python",
   "name": "python",
   "nbconvert_exporter": "python",
   "pygments_lexer": "ipython2",
   "version": "2.7.6"
  }
 },
 "nbformat": 4,
 "nbformat_minor": 5
}
