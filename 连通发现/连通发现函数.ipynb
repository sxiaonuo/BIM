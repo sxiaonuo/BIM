{
 "cells": [
  {
   "cell_type": "code",
   "id": "initial_id",
   "metadata": {
    "collapsed": true,
    "ExecuteTime": {
     "end_time": "2025-02-27T11:40:05.218722Z",
     "start_time": "2025-02-27T11:40:05.204118Z"
    }
   },
   "source": [
    "import cv2\n",
    "from PIL import Image, ImageDraw\n",
    "import numpy as np\n",
    "import random\n",
    "import os\n",
    "import math\n",
    "from tqdm.contrib import itertools\n",
    "import utils.detect_line as detect_line\n",
    "\n",
    "from yacs.config import CfgNode as CN"
   ],
   "outputs": [],
   "execution_count": 5
  },
  {
   "metadata": {
    "ExecuteTime": {
     "end_time": "2025-02-27T11:40:05.468311Z",
     "start_time": "2025-02-27T11:40:05.450268Z"
    }
   },
   "cell_type": "code",
   "source": [
    "# ori_img = cv2.imread('../static/b1_f.png')\n",
    "ori_img = cv2.imread('../static/img/self1.png')\n",
    "# ori_img = ori_img[5000:8000, 5000:7000, :]\n",
    "Image.fromarray(ori_img)"
   ],
   "id": "879e67bad9d8e325",
   "outputs": [
    {
     "data": {
      "text/plain": [
       "<PIL.Image.Image image mode=RGB size=256x256>"
      ],
      "image/png": "[encoded data removed]",
      "image/jpeg": "[encoded data removed]"
     },
     "execution_count": 6,
     "metadata": {},
     "output_type": "execute_result"
    }
   ],
   "execution_count": 6
  },
  {
   "metadata": {
    "ExecuteTime": {
     "end_time": "2025-02-27T11:40:05.796809Z",
     "start_time": "2025-02-27T11:40:05.769243Z"
    }
   },
   "cell_type": "code",
   "source": [
    "lines, _ = detect_line.detect_lines(ori_img)\n",
    "white = np.ones_like(ori_img) * 255\n",
    "for line in lines:\n",
    "    cv2.line(white, line[0], line[1], line[2], 1)\n",
    "Image.fromarray(white)"
   ],
   "id": "ecf2f556e348f4ba",
   "outputs": [
    {
     "data": {
      "text/plain": [
       "<PIL.Image.Image image mode=RGB size=256x256>"
      ],
      "image/png": "[encoded data removed]",
      "image/jpeg": "[encoded data removed]"
     },
     "execution_count": 7,
     "metadata": {},
     "output_type": "execute_result"
    }
   ],
   "execution_count": 7
  },
  {
   "metadata": {
    "ExecuteTime": {
     "end_time": "2025-02-27T11:40:15.315770Z",
     "start_time": "2025-02-27T11:40:15.309790Z"
    }
   },
   "cell_type": "code",
   "source": [
    "# 连通发现\n",
    "# 连通发现的条件\n",
    "\"\"\"\n",
    "【连通条件】\n",
    "1. 直线端与另一直线端连接\n",
    "2. 直线端与另一直线中段连接\n",
    "3. 直线中段与另一直线中段连接\n",
    "4. 颜色相同\n",
    "以上这些条件，在不同的使用场景下，可任意选择\n",
    "【实现流程】：\n",
    "输入全体直线数据（格式为之前直线检测的输出格式）\n",
    "对输入的直线进行两两判断，满足相连的定义则建立链接（使用链式前向星）链接关系具有传递性\n",
    "判断完全部直线组合后，使用并查集将每一组连通域合并。\n",
    "整理格式，输出。\n",
    "【效率优化】\n",
    "输入的直线数量通常比较多，进行两两组合所需要的时间成本极高。\n",
    "为了减少时间复杂度，可以设计相应的剪枝算法：\n",
    "对输入数据进行预处理，在坐标系中划分网格，预处理每一条直线所经过的网格。从而两条直线存在链接，当且仅当他们的经过的网格有重叠。\n",
    "\"\"\""
   ],
   "id": "d11b243b382f58f0",
   "outputs": [
    {
     "data": {
      "text/plain": [
       "'\\n【连通条件】\\n1. 直线端与另一直线端连接\\n2. 直线端与另一直线中段连接\\n3. 直线中段与另一直线中段连接\\n4. 颜色相同\\n以上这些条件，在不同的使用场景下，可任意选择\\n【实现流程】：\\n输入全体直线数据（格式为之前直线检测的输出格式）\\n对输入的直线进行两两判断，满足相连的定义则建立链接（使用链式前向星）链接关系具有传递性\\n判断完全部直线组合后，使用并查集将每一组连通域合并。\\n整理格式，输出。\\n【效率优化】\\n输入的直线数量通常比较多，进行两两组合所需要的时间成本极高。\\n为了减少时间复杂度，可以设计相应的剪枝算法：\\n对输入数据进行预处理，在坐标系中划分网格，预处理每一条直线所经过的网格。从而两条直线存在链接，当且仅当他们的经过的网格有重叠。\\n'"
      ]
     },
     "execution_count": 9,
     "metadata": {},
     "output_type": "execute_result"
    }
   ],
   "execution_count": 9
  },
  {
   "metadata": {
    "ExecuteTime": {
     "end_time": "2025-02-27T11:40:15.779423Z",
     "start_time": "2025-02-27T11:40:15.761118Z"
    }
   },
   "cell_type": "code",
   "source": [
    "# 预处理\n",
    "print(len(lines))\n",
    "lines"
   ],
   "id": "1cf5875901748cc4",
   "outputs": [
    {
     "name": "stdout",
     "output_type": "stream",
     "text": [
      "10\n"
     ]
    },
    {
     "data": {
      "text/plain": [
       "[[(12, 32), (30, 50), (0, 255, 0)],\n",
       " [(10, 10), (10, 50), (0, 255, 0)],\n",
       " [(100, 100), (100, 130), (0, 255, 0)],\n",
       " [(110, 100), (110, 130), (0, 255, 0)],\n",
       " [(115, 189), (115, 220), (0, 255, 0)],\n",
       " [(225, 190), (225, 220), (0, 255, 0)],\n",
       " [(10, 31), (11, 31), (0, 255, 255)],\n",
       " [(32, 52), (70, 70), (0, 255, 0)],\n",
       " [(80, 98), (110, 98), (0, 255, 0)],\n",
       " [(116, 188), (220, 98), (0, 255, 0)]]"
      ]
     },
     "execution_count": 10,
     "metadata": {},
     "output_type": "execute_result"
    }
   ],
   "execution_count": 10
  },
  {
   "metadata": {
    "ExecuteTime": {
     "end_time": "2025-02-27T12:39:44.177338Z",
     "start_time": "2025-02-27T12:39:44.170562Z"
    }
   },
   "cell_type": "code",
   "source": [
    "# 计算最大坐标空间\n",
    "def get_max_coord(lines):\n",
    "    max_x = 0\n",
    "    max_y = 0\n",
    "    for line in lines:\n",
    "        max_x = max(max_x, line[0][0], line[1][0])\n",
    "        max_y = max(max_y, line[0][1], line[1][1])\n",
    "    return max_x, max_y\n",
    "max_x, max_y = get_max_coord(lines)\n",
    "max_x, max_y"
   ],
   "id": "a261959c3accc021",
   "outputs": [
    {
     "data": {
      "text/plain": [
       "(225, 220)"
      ]
     },
     "execution_count": 39,
     "metadata": {},
     "output_type": "execute_result"
    }
   ],
   "execution_count": 39
  },
  {
   "metadata": {
    "ExecuteTime": {
     "end_time": "2025-02-27T11:40:16.659266Z",
     "start_time": "2025-02-27T11:40:16.651635Z"
    }
   },
   "cell_type": "code",
   "source": [
    "# 按照一定尺寸拆分网格\n",
    "grid_size = 100\n",
    "def split_grid(max_x, max_y, grid_size):\n",
    "    grid_x = math.ceil(max_x / grid_size)\n",
    "    grid_y = math.ceil(max_y / grid_size)\n",
    "    return grid_x, grid_y\n",
    "grid_x, grid_y = split_grid(max_x, max_y, grid_size)\n",
    "grid_x, grid_y"
   ],
   "id": "6fae9c015e372aa3",
   "outputs": [
    {
     "data": {
      "text/plain": [
       "(3, 3)"
      ]
     },
     "execution_count": 12,
     "metadata": {},
     "output_type": "execute_result"
    }
   ],
   "execution_count": 12
  },
  {
   "metadata": {
    "ExecuteTime": {
     "end_time": "2025-02-27T11:40:17.109745Z",
     "start_time": "2025-02-27T11:40:17.096103Z"
    }
   },
   "cell_type": "code",
   "source": [
    "def line_coord2grids(line, grid_size, grid_x, grid_y):\n",
    "    i = 0\n",
    "    \"\"\"\n",
    "    line: [(x1, y1), (x2, y2), (r, g, b)]\n",
    "    grid_size: 每个网格的大小\n",
    "    grid_x, grid_y: 网格的维度数量\n",
    "    返回经过的网格坐标集合\n",
    "    \"\"\"\n",
    "    start = line[0]\n",
    "    end = line[1]\n",
    "    x0, y0 = start\n",
    "    x1, y1 = end\n",
    "\n",
    "    # 将坐标限制在有效范围内，防止越界\n",
    "    max_x = grid_x * grid_size\n",
    "    max_y = grid_y * grid_size\n",
    "    # 使用一个极小的epsilon来避免刚好在边界上导致计算到下一个网格\n",
    "    epsilon = 1e-9\n",
    "    x0 = max(0.0, min(x0, max_x - epsilon))\n",
    "    y0 = max(0.0, min(y0, max_y - epsilon))\n",
    "    x1 = max(0.0, min(x1, max_x - epsilon))\n",
    "    y1 = max(0.0, min(y1, max_y - epsilon))\n",
    "\n",
    "    # 计算初始网格\n",
    "    i0 = int(x0 // grid_size)\n",
    "    j0 = int(y0 // grid_size)\n",
    "    i0 = max(0, min(i0, grid_x - 1))\n",
    "    j0 = max(0, min(j0, grid_y - 1))\n",
    "\n",
    "    i1 = int(x1 // grid_size)\n",
    "    j1 = int(y1 // grid_size)\n",
    "    i1 = max(0, min(i1, grid_x - 1))\n",
    "    j1 = max(0, min(j1, grid_y - 1))\n",
    "\n",
    "    grids = set()\n",
    "    grids.add((j0, i0))\n",
    "\n",
    "    dx = x1 - x0\n",
    "    dy = y1 - y0\n",
    "\n",
    "    # 处理起点和终点重合的情况\n",
    "    if dx == 0 and dy == 0:\n",
    "        return grids\n",
    "\n",
    "    step_x = 1 if dx > 0 else -1 if dx < 0 else 0\n",
    "    step_y = 1 if dy > 0 else -1 if dy < 0 else 0\n",
    "\n",
    "    # 计算初始t_max_x和t_max_y\n",
    "    if dx != 0:\n",
    "        if step_x == 1:\n",
    "            x_next = (i0 + 1) * grid_size\n",
    "        else:\n",
    "            x_next = i0 * grid_size\n",
    "        t_max_x = (x_next - x0) / dx\n",
    "    else:\n",
    "        t_max_x = float('inf')\n",
    "\n",
    "    if dy != 0:\n",
    "        if step_y == 1:\n",
    "            y_next = (j0 + 1) * grid_size\n",
    "        else:\n",
    "            y_next = j0 * grid_size\n",
    "        t_max_y = (y_next - y0) / dy\n",
    "    else:\n",
    "        t_max_y = float('inf')\n",
    "\n",
    "    # 计算t_delta_x和t_delta_y\n",
    "    t_delta_x = (grid_size / abs(dx)) if dx != 0 else float('inf')\n",
    "    t_delta_y = (grid_size / abs(dy)) if dy != 0 else float('inf')\n",
    "\n",
    "    current_i, current_j = i0, j0\n",
    "\n",
    "    while True:\n",
    "        # 检查是否到达终点网格\n",
    "        if current_i == i1 and current_j == j1:\n",
    "            break\n",
    "\n",
    "        # 决定步进方向\n",
    "        if t_max_x < t_max_y:\n",
    "            current_i += step_x\n",
    "            t_max_x += t_delta_x\n",
    "        else:\n",
    "            current_j += step_y\n",
    "            t_max_y += t_delta_y\n",
    "\n",
    "        # 确保当前网格在合法范围内\n",
    "        current_i = max(0, min(current_i, grid_x - 1))\n",
    "        current_j = max(0, min(current_j, grid_y - 1))\n",
    "\n",
    "        # 添加当前网格到集合\n",
    "        grids.add((current_j, current_i))   # 就是反过来的\n",
    "\n",
    "    return grids\n",
    "\n",
    "def has_overlap(grids1, grids2):\n",
    "    \"\"\"\n",
    "    判断两个网格集合是否有交集\n",
    "    \"\"\"\n",
    "    return not grids1.isdisjoint(grids2)\n",
    "\n",
    "grids = line_coord2grids(lines[0], grid_size, grid_x, grid_y)\n",
    "grids\n",
    "\n",
    "# mp = np.zeros((grid_y, grid_x))\n",
    "# for it in grids:\n",
    "#     mp[it[0], it[1]] = 255\n",
    "# Image.fromarray(mp).show()\n",
    "# ####\n",
    "# white = np.ones_like(ori_img) * 255\n",
    "# line = lines[0]\n",
    "# cv2.line(white, line[0], line[1], line[2], 1)\n",
    "# Image.fromarray(white)"
   ],
   "id": "46ae003189dc3571",
   "outputs": [
    {
     "data": {
      "text/plain": [
       "{(0, 0)}"
      ]
     },
     "execution_count": 13,
     "metadata": {},
     "output_type": "execute_result"
    }
   ],
   "execution_count": 13
  },
  {
   "metadata": {
    "ExecuteTime": {
     "end_time": "2025-02-27T11:40:17.887418Z",
     "start_time": "2025-02-27T11:40:17.880834Z"
    }
   },
   "cell_type": "code",
   "source": [
    "# 进行预处理\n",
    "def preprocess(lines, grid_size):\n",
    "    max_x, max_y = get_max_coord(lines)\n",
    "    grid_x, grid_y = split_grid(max_x, max_y, grid_size)\n",
    "\n",
    "    grid_dict = {}\n",
    "    for idx, line in enumerate(lines):\n",
    "        grids = line_coord2grids(line, grid_size, grid_x, grid_y)\n",
    "        for grid in grids:\n",
    "            if grid not in grid_dict:\n",
    "                grid_dict[grid] = [idx]\n",
    "            else:\n",
    "                grid_dict[grid].append(idx)\n",
    "\n",
    "    return grid_dict\n",
    "grid_dict = preprocess(lines, grid_size)"
   ],
   "id": "5ef8e50f926e8fef",
   "outputs": [],
   "execution_count": 14
  },
  {
   "metadata": {
    "ExecuteTime": {
     "end_time": "2025-02-27T11:40:18.445650Z",
     "start_time": "2025-02-27T11:40:18.429355Z"
    }
   },
   "cell_type": "code",
   "source": [
    "# 两两判断连接\n",
    "\n",
    "# 两点距离判断\n",
    "def distance(pt1, pt2):\n",
    "    \"\"\"\n",
    "    :param pt1:\n",
    "    :param pt2:\n",
    "    :return:\n",
    "    \"\"\"\n",
    "    return math.sqrt((pt1[0] - pt2[0]) ** 2 + (pt1[1] - pt2[1]) ** 2)\n",
    "\n",
    "# 点与线段距离判断\n",
    "def distance_to_line(pt, line):\n",
    "    \"\"\"\n",
    "    计算点到线段的最短距离。\n",
    "\n",
    "    :param pt: 点 (x0, y0)\n",
    "    :param line: 线段 [(x1, y1), (x2, y2)]，忽略 (r, g, b) 部分\n",
    "    :return: 最短距离\n",
    "    \"\"\"\n",
    "    px, py = pt\n",
    "    x1, y1 = line[0]\n",
    "    x2, y2 = line[1]\n",
    "    # 计算线段的方向向量dx, dy\n",
    "    dx = x2 - x1\n",
    "    dy = y2 - y1\n",
    "\n",
    "    # 计算点到线段起点的方向向量\n",
    "    pdx = px - x1\n",
    "    pdy = py - y1\n",
    "\n",
    "    # 投影长度\n",
    "    t = (pdx * dx + pdy * dy) / (dx * dx + dy * dy)\n",
    "\n",
    "    if t < 0:  # 超出a点范围\n",
    "        closest_x = x1\n",
    "        closest_y = y1\n",
    "    elif t > 1:  # 超出b点范围\n",
    "        closest_x = x2\n",
    "        closest_y = y2\n",
    "    else:  # 正常情况\n",
    "        closest_x = x1 + t * dx\n",
    "        closest_y = y1 + t * dy\n",
    "\n",
    "    # 计算点到最近点的距离\n",
    "    distance = math.sqrt((px - closest_x) ** 2 + (py - closest_y) ** 2)\n",
    "    return distance\n",
    "\n",
    "\n",
    "# 两直线交叉判断\n",
    "def is_cross(line1, line2):\n",
    "    \"\"\"\n",
    "\n",
    "    :param line1: [(x1, y1), (x2, y2), (r, g ,b)]\n",
    "    :param line2: [(x1, y1), (x2, y2), (r, g ,b)]\n",
    "    :param eps:\n",
    "    :return:\n",
    "    \"\"\"\n",
    "    x1, y1 = line1[0]\n",
    "    x2, y2 = line1[1]\n",
    "    x3, y3 = line2[0]\n",
    "    x4, y4 = line2[1]\n",
    "    if (max(x1, x2) >= min(x3, x4) and max(x3, x4) >= min(x1, x2) and\n",
    "            max(y1, y2) >= min(y3, y4) and max(y3, y4) >= min(y1, y2)):\n",
    "        if (x1 - x2) * (y3 - y4) - (x3 - x4) * (y1 - y2) == 0:\n",
    "            return False\n",
    "        else:\n",
    "            k1 = (y2 - y1) / (x2 - x1)\n",
    "            k2 = (y4 - y3) / (x4 - x3)\n",
    "            b1 = y1 - k1 * x1\n",
    "            b2 = y3 - k2 * x3\n",
    "            x = (b2 - b1) / (k1 - k2)\n",
    "            y = k1 * x + b1\n",
    "            if (min(x1, x2) <= x <= max(x1, x2) and min(x3, x4) <= x <= max(x3, x4) and\n",
    "                    min(y1, y2) <= y <= max(y1, y2) and min(y3, y4) <= y <= max(y3, y4)):\n",
    "                return True\n",
    "            else:\n",
    "                return False\n",
    "    else:\n",
    "        return False\n",
    "\n",
    "\n",
    "def check_connect(line1, line2, eps, pattern1, pattern2, pattern3, pattern_color):\n",
    "    \"\"\"\n",
    "    :param line1:\n",
    "    :param line2:\n",
    "    :param eps:\n",
    "    :param pattern1: 1. 直线端与另一直线端连接\n",
    "    :param pattern2: 2. 直线端与另一直线中段连接 (包含1）\n",
    "    :param pattern3: 3. 直线中段与另一直线中段连接  (交叉)\n",
    "    :param pattern_color: 4. 颜色相同\n",
    "    :return:\n",
    "    \"\"\"\n",
    "    assert not (pattern2 and not pattern1), \"pattern2 覆盖 pattern1, 请把pattern1改为True\"\n",
    "    if pattern_color and line1[2] != line2[2]:\n",
    "        return False\n",
    "    if pattern3 and is_cross(line1, line2):\n",
    "        return True\n",
    "    if pattern2 and (distance_to_line(line1[0], line2)  < eps or\n",
    "                     distance_to_line(line1[1], line2) < eps or\n",
    "                     distance_to_line(line2[0], line1) < eps or\n",
    "                     distance_to_line(line2[1], line1) < eps):\n",
    "        return True\n",
    "    if pattern1 and (distance(line1[0], line2[0]) < eps or\n",
    "                     distance(line1[0], line2[1]) < eps or\n",
    "                     distance(line1[1], line2[0]) < eps or\n",
    "                     distance(line1[1], line2[1]) < eps):\n",
    "        return True\n",
    "    return False\n",
    "# check_connect([(0, 0), (1, 1), (0, 0, 0)] , [(1, 1), (2, 2), (0, 0, 0)], 0.1, 0, 0, 1, 1)\n"
   ],
   "id": "c0532c934240f572",
   "outputs": [],
   "execution_count": 15
  },
  {
   "metadata": {
    "ExecuteTime": {
     "end_time": "2025-02-27T12:27:08.316767Z",
     "start_time": "2025-02-27T12:27:08.284194Z"
    }
   },
   "cell_type": "code",
   "source": [
    "class ChainForwardStar:\n",
    "    # 链式前向星\n",
    "    def __init__(self, num_node, num_edge):\n",
    "        self.num_node = num_node\n",
    "        self.h = np.ones(num_node, dtype=np.int32) * -1\n",
    "        self.e = np.zeros(num_edge, dtype=np.int32)\n",
    "        self.ne = np.zeros(num_edge, dtype=np.int32)\n",
    "        self.idx = 0\n",
    "\n",
    "    def add_edge(self, u, v):\n",
    "        self.e[self.idx] = v\n",
    "        self.ne[self.idx] = self.h[u]\n",
    "        self.h[u] = self.idx\n",
    "        self.idx += 1\n",
    "\n",
    "    def get_neighbors(self, u):\n",
    "        neighbors = []\n",
    "        p = self.h[u]\n",
    "        while p != -1:\n",
    "            neighbors.append(self.e[p])\n",
    "            p = self.ne[p]\n",
    "        return neighbors\n",
    "\n",
    "class UnionFind:\n",
    "    # 并查集\n",
    "    def __init__(self, size):\n",
    "        # 初始化每个元素的父节点为自己\n",
    "        self.parent = list(range(size))\n",
    "        # 可选：初始化每个集合的元素数量，如果不需要统计集合大小可以省略\n",
    "        self.rank = [1] * size\n",
    "\n",
    "    def find(self, x):\n",
    "        \"\"\"查找x的根节点，使用路径压缩\"\"\"\n",
    "        if self.parent[x] != x:\n",
    "            # 路径压缩：将x的父节点设为其根节点的父节点\n",
    "            self.parent[x] = self.find(self.parent[x])\n",
    "        return self.parent[x]\n",
    "\n",
    "    def union(self, x, y):\n",
    "        \"\"\"合并x和y所在的集合\"\"\"\n",
    "        rootX = self.find(x)\n",
    "        rootY = self.find(y)\n",
    "        if rootX != rootY:\n",
    "            # 如果x和y不在同一个集合中，则将较小的集合合并到较大的集合上\n",
    "            if self.rank[rootX] > self.rank[rootY]:\n",
    "                self.parent[rootY] = rootX\n",
    "                self.rank[rootX] += self.rank[rootY]\n",
    "            else:\n",
    "                self.parent[rootX] = rootY\n",
    "                self.rank[rootY] += self.rank[rootX]\n",
    "\n",
    "    def connected(self, x, y):\n",
    "        \"\"\"判断x和y是否在同一集合中\"\"\"\n",
    "        return self.find(x) == self.find(y)\n",
    "\n",
    "    def get_sets(self):\n",
    "        \"\"\"返回并查集中所有连通集合的列表\"\"\"\n",
    "        # 创建一个字典，键是根节点，值是属于该根节点的集合元素列表\n",
    "        sets_dict = {}\n",
    "        for i in range(len(self.parent)):\n",
    "            root = self.find(i)\n",
    "            if root not in sets_dict:\n",
    "                sets_dict[root] = []\n",
    "            sets_dict[root].append(i)\n",
    "\n",
    "        # 将字典转换为列表\n",
    "        return list(sets_dict.values())\n",
    "\n",
    "# 发现连通\n",
    "def detect_connect(lines, grid_size=100, eps=3):\n",
    "    grid_dict = preprocess(lines, grid_size)\n",
    "\n",
    "    num_lines = len(lines)\n",
    "    cfs = ChainForwardStar(num_lines, num_lines * 10)\n",
    "\n",
    "    dx = [0, 0, 1, 0, -1]\n",
    "    dy = [0, -1, 0, 1, 0]\n",
    "    for key in grid_dict.keys():\n",
    "        lines_in_grid = []\n",
    "        for d in zip(dx, dy):\n",
    "            if (key[0] + d[0], key[1] + d[1]) not in grid_dict:\n",
    "                continue\n",
    "            lines_in_grid.extend(grid_dict[(key[0] + d[0], key[1] + d[1])])\n",
    "            for idx, line1_idx in enumerate(lines_in_grid):\n",
    "                for jdx, line2_idx in enumerate(lines_in_grid[idx + 1:]):\n",
    "                    if check_connect(lines[line1_idx], lines[line2_idx], eps, 1, 1, 0, 1) and line1_idx not in cfs.get_neighbors(line2_idx):\n",
    "                        cfs.add_edge(line1_idx, line2_idx)\n",
    "                        cfs.add_edge(line2_idx, line1_idx)\n",
    "\n",
    "    uf = UnionFind(num_lines)\n",
    "    for i in range(num_lines):\n",
    "        for j in cfs.get_neighbors(i):\n",
    "            if uf.connected(i, j):\n",
    "                continue\n",
    "            uf.union(i, j)\n",
    "    sets = uf.get_sets()\n",
    "    groups = []\n",
    "    for set_ in sets:\n",
    "        groups.append([lines[idx] for idx in set_])\n",
    "\n",
    "    return groups\n",
    "\n",
    "groups = detect_connect(lines, grid_size=100, eps=3)\n",
    "white = np.ones_like(ori_img) * 255\n",
    "for group in groups:\n",
    "    color = (random.randint(0, 255), random.randint(0, 255), random.randint(0, 255))\n",
    "    for line in group:\n",
    "        cv2.line(white, line[0], line[1], color, 1)\n",
    "Image.fromarray(white)"
   ],
   "id": "d7b16f4e86603ea1",
   "outputs": [
    {
     "data": {
      "text/plain": [
       "<PIL.Image.Image image mode=RGB size=256x256>"
      ],
      "image/png": "[encoded data removed]",
      "image/jpeg": "[encoded data removed]"
     },
     "execution_count": 38,
     "metadata": {},
     "output_type": "execute_result"
    }
   ],
   "execution_count": 38
  },
  {
   "metadata": {},
   "cell_type": "code",
   "outputs": [],
   "execution_count": null,
   "source": "",
   "id": "9f96e7ad389b61c6"
  }
 ],
 "metadata": {
  "kernelspec": {
   "display_name": "Python 3",
   "language": "python",
   "name": "python3"
  },
  "language_info": {
   "codemirror_mode": {
    "name": "ipython",
    "version": 2
   },
   "file_extension": ".py",
   "mimetype": "text/x-python",
   "name": "python",
   "nbconvert_exporter": "python",
   "pygments_lexer": "ipython2",
   "version": "2.7.6"
  }
 },
 "nbformat": 4,
 "nbformat_minor": 5
}
