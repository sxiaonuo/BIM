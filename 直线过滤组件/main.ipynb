{
 "cells": [
  {
   "cell_type": "code",
   "id": "initial_id",
   "metadata": {
    "collapsed": true,
    "ExecuteTime": {
     "end_time": "2025-03-01T15:00:20.580963Z",
     "start_time": "2025-03-01T15:00:20.308287Z"
    }
   },
   "source": [
    "import os\n",
    "\n",
    "import cv2\n",
    "from PIL import Image\n",
    "import random\n",
    "import numpy as np\n",
    "from utils.detect_line import detect_lines\n",
    "from utils.hot import hot_detect_line"
   ],
   "outputs": [],
   "execution_count": 1
  },
  {
   "metadata": {
    "ExecuteTime": {
     "end_time": "2025-03-01T15:01:37.208463Z",
     "start_time": "2025-03-01T15:00:20.587462Z"
    }
   },
   "cell_type": "code",
   "source": [
    "ori_img = cv2.imread('../static/img/b1_f.png')\n",
    "lines = hot_detect_line('../static/img/b1_f.png')"
   ],
   "id": "11b38cdb43b29bd7",
   "outputs": [
    {
     "data": {
      "text/plain": [
       "  0%|          | 0/140 [00:00<?, ?it/s]"
      ],
      "application/vnd.jupyter.widget-view+json": {
       "version_major": 2,
       "version_minor": 0,
       "model_id": "d94f12cddea04d688776c0cf35730c40"
      }
     },
     "metadata": {},
     "output_type": "display_data"
    }
   ],
   "execution_count": 2
  },
  {
   "metadata": {
    "ExecuteTime": {
     "end_time": "2025-03-01T15:05:28.386630Z",
     "start_time": "2025-03-01T15:05:14.222951Z"
    }
   },
   "cell_type": "code",
   "source": [
    "white = np.ones_like(ori_img) * 255\n",
    "for line in lines:\n",
    "    cv2.line(white, line[0], line[1], line[2], 1)\n",
    "Image.fromarray(white).save(\"workdir/run/0.png\")"
   ],
   "id": "40f31d06da0777bb",
   "outputs": [],
   "execution_count": 6
  },
  {
   "metadata": {
    "ExecuteTime": {
     "end_time": "2025-02-28T15:23:50.794170Z",
     "start_time": "2025-02-28T15:23:50.780636Z"
    }
   },
   "cell_type": "code",
   "source": [
    "# 颜色过滤\n",
    "def color_filter(lines, color):\n",
    "    return [line for line in lines if line[2] != color]"
   ],
   "id": "8e04f3941ba3c589",
   "outputs": [],
   "execution_count": 16
  },
  {
   "metadata": {
    "ExecuteTime": {
     "end_time": "2025-02-28T15:23:51.143043Z",
     "start_time": "2025-02-28T15:23:51.131532Z"
    }
   },
   "cell_type": "code",
   "source": "normal_lines = color_filter(lines, (0, 0, 0))",
   "id": "3eb5ead6992f4403",
   "outputs": [],
   "execution_count": 17
  },
  {
   "metadata": {
    "ExecuteTime": {
     "end_time": "2025-02-28T15:25:14.856838Z",
     "start_time": "2025-02-28T15:25:02.639046Z"
    }
   },
   "cell_type": "code",
   "source": [
    "import os\n",
    "white = np.ones_like(ori_img) * 255\n",
    "for line in normal_lines:\n",
    "    color = (random.randint(0, 255), random.randint(0, 255), random.randint(0, 255))\n",
    "    pt1 = line[0]\n",
    "    pt2 = line[1]\n",
    "    cv2.line(white, pt1, pt2, color, 1)\n",
    "os.makedirs(\"workdir/run\", exist_ok=True)\n",
    "Image.fromarray(ori_img).save(\"workdir/run/0.png\")\n",
    "Image.fromarray(white).save(\"workdir/run/1.png\")\n",
    "white = np.ones_like(ori_img) * 255\n",
    "for line in normal_lines:\n",
    "    color = line[2]\n",
    "    pt1 = line[0]\n",
    "    pt2 = line[1]\n",
    "    cv2.line(white, pt1, pt2, color, 1)\n",
    "Image.fromarray(white).save(\"workdir/run/2.png\")"
   ],
   "id": "94bc3a5280f97f41",
   "outputs": [],
   "execution_count": 20
  },
  {
   "metadata": {},
   "cell_type": "code",
   "outputs": [],
   "execution_count": null,
   "source": "",
   "id": "8c4e7dd752bca410"
  },
  {
   "metadata": {
    "ExecuteTime": {
     "end_time": "2025-02-28T15:24:00.436795Z",
     "start_time": "2025-02-28T15:24:00.414729Z"
    }
   },
   "cell_type": "code",
   "source": [
    "colors = [line[2] for line in lines]\n",
    "colors = list(set(colors))\n",
    "colors"
   ],
   "id": "d3d2a2883c1b14ed",
   "outputs": [
    {
     "data": {
      "text/plain": [
       "[(255, 255, 0),\n",
       " (110, 110, 221),\n",
       " (0, 255, 255),\n",
       " (186, 186, 186),\n",
       " (184, 184, 0),\n",
       " (0, 0, 0),\n",
       " (57, 114, 57),\n",
       " (0, 255, 0),\n",
       " (255, 255, 255),\n",
       " (220, 220, 220),\n",
       " (128, 128, 128),\n",
       " (255, 0, 255)]"
      ]
     },
     "execution_count": 19,
     "metadata": {},
     "output_type": "execute_result"
    }
   ],
   "execution_count": 19
  },
  {
   "metadata": {
    "ExecuteTime": {
     "end_time": "2025-02-28T15:23:12.737940Z",
     "start_time": "2025-02-28T15:23:12.724832Z"
    }
   },
   "cell_type": "code",
   "source": "len([line[2] for line in lines if line[2] == (0, 0, 0)  ])",
   "id": "d7b8fb3fd1f4a2cb",
   "outputs": [
    {
     "data": {
      "text/plain": [
       "8615"
      ]
     },
     "execution_count": 12,
     "metadata": {},
     "output_type": "execute_result"
    }
   ],
   "execution_count": 12
  },
  {
   "metadata": {
    "ExecuteTime": {
     "end_time": "2025-02-28T15:23:22.868676Z",
     "start_time": "2025-02-28T15:23:22.855533Z"
    }
   },
   "cell_type": "code",
   "source": "len([line[2] for line in lines if line[2] == (255, 255, 255)  ])",
   "id": "b959f4b9e18b93c",
   "outputs": [
    {
     "data": {
      "text/plain": [
       "2"
      ]
     },
     "execution_count": 13,
     "metadata": {},
     "output_type": "execute_result"
    }
   ],
   "execution_count": 13
  },
  {
   "metadata": {},
   "cell_type": "code",
   "outputs": [],
   "execution_count": null,
   "source": "",
   "id": "c95bcacc2f8ffbb0"
  }
 ],
 "metadata": {
  "kernelspec": {
   "display_name": "Python 3",
   "language": "python",
   "name": "python3"
  },
  "language_info": {
   "codemirror_mode": {
    "name": "ipython",
    "version": 2
   },
   "file_extension": ".py",
   "mimetype": "text/x-python",
   "name": "python",
   "nbconvert_exporter": "python",
   "pygments_lexer": "ipython2",
   "version": "2.7.6"
  }
 },
 "nbformat": 4,
 "nbformat_minor": 5
}
