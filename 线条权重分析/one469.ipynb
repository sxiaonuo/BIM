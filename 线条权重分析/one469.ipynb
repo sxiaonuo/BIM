{
 "cells": [
  {
   "cell_type": "code",
   "id": "initial_id",
   "metadata": {
    "collapsed": true,
    "ExecuteTime": {
     "end_time": "2025-03-22T05:22:09.481086Z",
     "start_time": "2025-03-22T05:22:09.285632Z"
    }
   },
   "source": [
    "import math\n",
    "import os\n",
    "\n",
    "import cv2\n",
    "from PIL import Image\n",
    "import random\n",
    "import numpy as np\n",
    "from utils.detect_line import detect_lines\n",
    "from utils.hot import hot_detect_line\n",
    "import pandas as pd\n",
    "\n",
    "import json"
   ],
   "outputs": [],
   "execution_count": 2
  },
  {
   "metadata": {
    "ExecuteTime": {
     "end_time": "2025-03-22T05:22:13.505290Z",
     "start_time": "2025-03-22T05:22:09.760162Z"
    }
   },
   "cell_type": "code",
   "source": [
    "ori_img = cv2.imread('../static/img/4.png')\n",
    "lines = hot_detect_line('../static/img/4.png', None, None, 0, path='../static/record/')"
   ],
   "id": "e63c2ae8a89fc744",
   "outputs": [
    {
     "name": "stdout",
     "output_type": "stream",
     "text": [
      "正在重载4.png[None:None, None:None]\n"
     ]
    }
   ],
   "execution_count": 3
  },
  {
   "metadata": {
    "ExecuteTime": {
     "end_time": "2025-03-22T05:22:22.981745Z",
     "start_time": "2025-03-22T05:22:22.868756Z"
    }
   },
   "cell_type": "code",
   "source": [
    "# 颜色过滤\n",
    "def color_filter(lines, color):\n",
    "    return [line for line in lines if tuple(line[2]) != color]\n",
    "def _line_length(line):\n",
    "    return math.sqrt((line[0][0] - line[1][0]) ** 2 + (line[0][1] - line[1][1]) ** 2)\n",
    "#是竖线\n",
    "def _is_vertical(line):\n",
    "    return line[0][0] - line[1][0] == 0\n",
    "def _is_horizontal(line):\n",
    "    return line[0][1] - line[1][1] == 0\n",
    "# 斜线和直线分层\n",
    "def line_filter(lines):\n",
    "    lines_a = []\n",
    "    lines_b = []\n",
    "    for line in lines:\n",
    "        if _is_vertical(line) or _is_horizontal(line):\n",
    "            lines_a.append(line)\n",
    "        else:\n",
    "            lines_b.append(line)\n",
    "    return lines_a, lines_b\n",
    "# 去除黑色\n",
    "lines_a = color_filter(lines, (0, 0, 0))\n",
    "# 分离水平垂直\n",
    "lines_a, lines_b = line_filter(lines_a)\n",
    "\n",
    "lines = pd.DataFrame([[line[0][1], line[0][0], line[1][1], line[1][0], tuple(line[2]), int(_line_length(line))] for line in lines_a], columns=['x1', 'y1', 'x2', 'y2', 'color', 'length'])\n",
    "lines"
   ],
   "id": "6aa0dbf805a85bdc",
   "outputs": [
    {
     "data": {
      "text/plain": [
       "          x1     y1     x2     y2        color  length\n",
       "0       1467   2154   1481   2154  (0, 255, 0)      14\n",
       "1       1467   2154   1481   2154  (0, 255, 0)      14\n",
       "2       2028   2154   2042   2154  (0, 255, 0)      14\n",
       "3       1458   2155   1466   2155  (0, 255, 0)       8\n",
       "4       1482   2155   1490   2155  (0, 255, 0)       8\n",
       "...      ...    ...    ...    ...          ...     ...\n",
       "26486  18489  24809  18489  24817  (0, 255, 0)       8\n",
       "26487  18675  24785  18675  24793  (0, 255, 0)       8\n",
       "26488  18675  24809  18675  24817  (0, 255, 0)       8\n",
       "26489  18676  24794  18676  24808  (0, 255, 0)      14\n",
       "26490  18676  24794  18676  24808  (0, 255, 0)      14\n",
       "\n",
       "[26491 rows x 6 columns]"
      ],
      "text/html": [
       "<div>\n",
       "<style scoped>\n",
       "    .dataframe tbody tr th:only-of-type {\n",
       "        vertical-align: middle;\n",
       "    }\n",
       "\n",
       "    .dataframe tbody tr th {\n",
       "        vertical-align: top;\n",
       "    }\n",
       "\n",
       "    .dataframe thead th {\n",
       "        text-align: right;\n",
       "    }\n",
       "</style>\n",
       "<table border=\"1\" class=\"dataframe\">\n",
       "  <thead>\n",
       "    <tr style=\"text-align: right;\">\n",
       "      <th></th>\n",
       "      <th>x1</th>\n",
       "      <th>y1</th>\n",
       "      <th>x2</th>\n",
       "      <th>y2</th>\n",
       "      <th>color</th>\n",
       "      <th>length</th>\n",
       "    </tr>\n",
       "  </thead>\n",
       "  <tbody>\n",
       "    <tr>\n",
       "      <th>0</th>\n",
       "      <td>1467</td>\n",
       "      <td>2154</td>\n",
       "      <td>1481</td>\n",
       "      <td>2154</td>\n",
       "      <td>(0, 255, 0)</td>\n",
       "      <td>14</td>\n",
       "    </tr>\n",
       "    <tr>\n",
       "      <th>1</th>\n",
       "      <td>1467</td>\n",
       "      <td>2154</td>\n",
       "      <td>1481</td>\n",
       "      <td>2154</td>\n",
       "      <td>(0, 255, 0)</td>\n",
       "      <td>14</td>\n",
       "    </tr>\n",
       "    <tr>\n",
       "      <th>2</th>\n",
       "      <td>2028</td>\n",
       "      <td>2154</td>\n",
       "      <td>2042</td>\n",
       "      <td>2154</td>\n",
       "      <td>(0, 255, 0)</td>\n",
       "      <td>14</td>\n",
       "    </tr>\n",
       "    <tr>\n",
       "      <th>3</th>\n",
       "      <td>1458</td>\n",
       "      <td>2155</td>\n",
       "      <td>1466</td>\n",
       "      <td>2155</td>\n",
       "      <td>(0, 255, 0)</td>\n",
       "      <td>8</td>\n",
       "    </tr>\n",
       "    <tr>\n",
       "      <th>4</th>\n",
       "      <td>1482</td>\n",
       "      <td>2155</td>\n",
       "      <td>1490</td>\n",
       "      <td>2155</td>\n",
       "      <td>(0, 255, 0)</td>\n",
       "      <td>8</td>\n",
       "    </tr>\n",
       "    <tr>\n",
       "      <th>...</th>\n",
       "      <td>...</td>\n",
       "      <td>...</td>\n",
       "      <td>...</td>\n",
       "      <td>...</td>\n",
       "      <td>...</td>\n",
       "      <td>...</td>\n",
       "    </tr>\n",
       "    <tr>\n",
       "      <th>26486</th>\n",
       "      <td>18489</td>\n",
       "      <td>24809</td>\n",
       "      <td>18489</td>\n",
       "      <td>24817</td>\n",
       "      <td>(0, 255, 0)</td>\n",
       "      <td>8</td>\n",
       "    </tr>\n",
       "    <tr>\n",
       "      <th>26487</th>\n",
       "      <td>18675</td>\n",
       "      <td>24785</td>\n",
       "      <td>18675</td>\n",
       "      <td>24793</td>\n",
       "      <td>(0, 255, 0)</td>\n",
       "      <td>8</td>\n",
       "    </tr>\n",
       "    <tr>\n",
       "      <th>26488</th>\n",
       "      <td>18675</td>\n",
       "      <td>24809</td>\n",
       "      <td>18675</td>\n",
       "      <td>24817</td>\n",
       "      <td>(0, 255, 0)</td>\n",
       "      <td>8</td>\n",
       "    </tr>\n",
       "    <tr>\n",
       "      <th>26489</th>\n",
       "      <td>18676</td>\n",
       "      <td>24794</td>\n",
       "      <td>18676</td>\n",
       "      <td>24808</td>\n",
       "      <td>(0, 255, 0)</td>\n",
       "      <td>14</td>\n",
       "    </tr>\n",
       "    <tr>\n",
       "      <th>26490</th>\n",
       "      <td>18676</td>\n",
       "      <td>24794</td>\n",
       "      <td>18676</td>\n",
       "      <td>24808</td>\n",
       "      <td>(0, 255, 0)</td>\n",
       "      <td>14</td>\n",
       "    </tr>\n",
       "  </tbody>\n",
       "</table>\n",
       "<p>26491 rows × 6 columns</p>\n",
       "</div>"
      ]
     },
     "execution_count": 4,
     "metadata": {},
     "output_type": "execute_result"
    }
   ],
   "execution_count": 4
  },
  {
   "metadata": {
    "ExecuteTime": {
     "end_time": "2025-03-22T05:33:25.867102Z",
     "start_time": "2025-03-22T05:33:25.853321Z"
    }
   },
   "cell_type": "code",
   "source": [
    "le = 469\n",
    "lines_len = lines[lines.length == le]\n",
    "lines_len = lines_len[lines_len.color == (128, 128, 128)]\n",
    "# 只保留坐标\n",
    "lines_len = lines_len[['x1', 'y1', 'x2', 'y2']]"
   ],
   "id": "10dfdc2a989a671c",
   "outputs": [],
   "execution_count": 26
  },
  {
   "metadata": {
    "ExecuteTime": {
     "end_time": "2025-03-22T05:33:26.821125Z",
     "start_time": "2025-03-22T05:33:26.802627Z"
    }
   },
   "cell_type": "code",
   "source": "lines_len",
   "id": "7f3a718483f42345",
   "outputs": [
    {
     "data": {
      "text/plain": [
       "          x1     y1     x2     y2\n",
       "134     1737   3625   1737   4094\n",
       "136     1755   3625   1755   4094\n",
       "1019    1737  10666   1737  11135\n",
       "1024    1755  10666   1755  11135\n",
       "1194    1737  13355   1737  13824\n",
       "...      ...    ...    ...    ...\n",
       "23679  16768  19360  16768  19829\n",
       "23680  16787  19360  16787  19829\n",
       "24388  16750  20867  16750  21336\n",
       "24389  16768  20867  16768  21336\n",
       "24390  16787  20867  16787  21336\n",
       "\n",
       "[490 rows x 4 columns]"
      ],
      "text/html": [
       "<div>\n",
       "<style scoped>\n",
       "    .dataframe tbody tr th:only-of-type {\n",
       "        vertical-align: middle;\n",
       "    }\n",
       "\n",
       "    .dataframe tbody tr th {\n",
       "        vertical-align: top;\n",
       "    }\n",
       "\n",
       "    .dataframe thead th {\n",
       "        text-align: right;\n",
       "    }\n",
       "</style>\n",
       "<table border=\"1\" class=\"dataframe\">\n",
       "  <thead>\n",
       "    <tr style=\"text-align: right;\">\n",
       "      <th></th>\n",
       "      <th>x1</th>\n",
       "      <th>y1</th>\n",
       "      <th>x2</th>\n",
       "      <th>y2</th>\n",
       "    </tr>\n",
       "  </thead>\n",
       "  <tbody>\n",
       "    <tr>\n",
       "      <th>134</th>\n",
       "      <td>1737</td>\n",
       "      <td>3625</td>\n",
       "      <td>1737</td>\n",
       "      <td>4094</td>\n",
       "    </tr>\n",
       "    <tr>\n",
       "      <th>136</th>\n",
       "      <td>1755</td>\n",
       "      <td>3625</td>\n",
       "      <td>1755</td>\n",
       "      <td>4094</td>\n",
       "    </tr>\n",
       "    <tr>\n",
       "      <th>1019</th>\n",
       "      <td>1737</td>\n",
       "      <td>10666</td>\n",
       "      <td>1737</td>\n",
       "      <td>11135</td>\n",
       "    </tr>\n",
       "    <tr>\n",
       "      <th>1024</th>\n",
       "      <td>1755</td>\n",
       "      <td>10666</td>\n",
       "      <td>1755</td>\n",
       "      <td>11135</td>\n",
       "    </tr>\n",
       "    <tr>\n",
       "      <th>1194</th>\n",
       "      <td>1737</td>\n",
       "      <td>13355</td>\n",
       "      <td>1737</td>\n",
       "      <td>13824</td>\n",
       "    </tr>\n",
       "    <tr>\n",
       "      <th>...</th>\n",
       "      <td>...</td>\n",
       "      <td>...</td>\n",
       "      <td>...</td>\n",
       "      <td>...</td>\n",
       "    </tr>\n",
       "    <tr>\n",
       "      <th>23679</th>\n",
       "      <td>16768</td>\n",
       "      <td>19360</td>\n",
       "      <td>16768</td>\n",
       "      <td>19829</td>\n",
       "    </tr>\n",
       "    <tr>\n",
       "      <th>23680</th>\n",
       "      <td>16787</td>\n",
       "      <td>19360</td>\n",
       "      <td>16787</td>\n",
       "      <td>19829</td>\n",
       "    </tr>\n",
       "    <tr>\n",
       "      <th>24388</th>\n",
       "      <td>16750</td>\n",
       "      <td>20867</td>\n",
       "      <td>16750</td>\n",
       "      <td>21336</td>\n",
       "    </tr>\n",
       "    <tr>\n",
       "      <th>24389</th>\n",
       "      <td>16768</td>\n",
       "      <td>20867</td>\n",
       "      <td>16768</td>\n",
       "      <td>21336</td>\n",
       "    </tr>\n",
       "    <tr>\n",
       "      <th>24390</th>\n",
       "      <td>16787</td>\n",
       "      <td>20867</td>\n",
       "      <td>16787</td>\n",
       "      <td>21336</td>\n",
       "    </tr>\n",
       "  </tbody>\n",
       "</table>\n",
       "<p>490 rows × 4 columns</p>\n",
       "</div>"
      ]
     },
     "execution_count": 27,
     "metadata": {},
     "output_type": "execute_result"
    }
   ],
   "execution_count": 27
  },
  {
   "metadata": {
    "ExecuteTime": {
     "end_time": "2025-03-22T05:33:29.031141Z",
     "start_time": "2025-03-22T05:33:29.021110Z"
    }
   },
   "cell_type": "code",
   "source": "lines_len.x1.value_counts()",
   "id": "e7f6460f293596e1",
   "outputs": [
    {
     "data": {
      "text/plain": [
       "x1\n",
       "4190     12\n",
       "2934     12\n",
       "2953     12\n",
       "3562     12\n",
       "4818     12\n",
       "         ..\n",
       "6093      4\n",
       "1774      4\n",
       "16750     4\n",
       "16787     4\n",
       "16768     3\n",
       "Name: count, Length: 69, dtype: int64"
      ]
     },
     "execution_count": 28,
     "metadata": {},
     "output_type": "execute_result"
    }
   ],
   "execution_count": 28
  },
  {
   "metadata": {
    "ExecuteTime": {
     "end_time": "2025-03-22T05:33:29.862069Z",
     "start_time": "2025-03-22T05:33:29.844555Z"
    }
   },
   "cell_type": "code",
   "source": "lines_len.y1.value_counts()",
   "id": "fc52e8ac411fc962",
   "outputs": [
    {
     "data": {
      "text/plain": [
       "y1\n",
       "20867    69\n",
       "19360    63\n",
       "13355    62\n",
       "11526    57\n",
       "17531    50\n",
       "22696    46\n",
       "14862    45\n",
       "16691    40\n",
       "10666    20\n",
       "3625     19\n",
       "6741     10\n",
       "7550      9\n",
       "Name: count, dtype: int64"
      ]
     },
     "execution_count": 29,
     "metadata": {},
     "output_type": "execute_result"
    }
   ],
   "execution_count": 29
  },
  {
   "metadata": {
    "ExecuteTime": {
     "end_time": "2025-03-22T05:33:30.314562Z",
     "start_time": "2025-03-22T05:33:30.298594Z"
    }
   },
   "cell_type": "code",
   "source": "lines_len.x2.value_counts()",
   "id": "1e7560f9eaa7cd13",
   "outputs": [
    {
     "data": {
      "text/plain": [
       "x2\n",
       "4190     12\n",
       "2934     12\n",
       "2953     12\n",
       "3562     12\n",
       "4818     12\n",
       "         ..\n",
       "6093      4\n",
       "1774      4\n",
       "16750     4\n",
       "16787     4\n",
       "16768     3\n",
       "Name: count, Length: 69, dtype: int64"
      ]
     },
     "execution_count": 30,
     "metadata": {},
     "output_type": "execute_result"
    }
   ],
   "execution_count": 30
  },
  {
   "metadata": {
    "ExecuteTime": {
     "end_time": "2025-03-22T05:33:30.949091Z",
     "start_time": "2025-03-22T05:33:30.937388Z"
    }
   },
   "cell_type": "code",
   "source": "lines_len.y2.value_counts()",
   "id": "f01e362dd82bacd5",
   "outputs": [
    {
     "data": {
      "text/plain": [
       "y2\n",
       "21336    69\n",
       "19829    63\n",
       "13824    62\n",
       "11995    57\n",
       "18000    50\n",
       "23165    46\n",
       "15331    45\n",
       "17160    40\n",
       "11135    20\n",
       "4094     19\n",
       "7210     10\n",
       "8019      9\n",
       "Name: count, dtype: int64"
      ]
     },
     "execution_count": 31,
     "metadata": {},
     "output_type": "execute_result"
    }
   ],
   "execution_count": 31
  },
  {
   "metadata": {
    "ExecuteTime": {
     "end_time": "2025-03-22T05:43:17.656822Z",
     "start_time": "2025-03-22T05:43:17.646807Z"
    }
   },
   "cell_type": "code",
   "source": [
    "x1 = lines_len.x1.value_counts() / len(lines_len)\n",
    "x1"
   ],
   "id": "c3fdb6d0d972615b",
   "outputs": [
    {
     "data": {
      "text/plain": [
       "x1\n",
       "4190     0.024490\n",
       "2934     0.024490\n",
       "2953     0.024490\n",
       "3562     0.024490\n",
       "4818     0.024490\n",
       "           ...   \n",
       "6093     0.008163\n",
       "1774     0.008163\n",
       "16750    0.008163\n",
       "16787    0.008163\n",
       "16768    0.006122\n",
       "Name: count, Length: 69, dtype: float64"
      ]
     },
     "execution_count": 34,
     "metadata": {},
     "output_type": "execute_result"
    }
   ],
   "execution_count": 34
  },
  {
   "metadata": {
    "ExecuteTime": {
     "end_time": "2025-03-22T05:43:49.251175Z",
     "start_time": "2025-03-22T05:43:49.238023Z"
    }
   },
   "cell_type": "code",
   "source": [
    "y1 = lines_len.y1.value_counts() / len(lines_len)\n",
    "y1"
   ],
   "id": "59c92f9be4270735",
   "outputs": [
    {
     "data": {
      "text/plain": [
       "y1\n",
       "20867    0.140816\n",
       "19360    0.128571\n",
       "13355    0.126531\n",
       "11526    0.116327\n",
       "17531    0.102041\n",
       "22696    0.093878\n",
       "14862    0.091837\n",
       "16691    0.081633\n",
       "10666    0.040816\n",
       "3625     0.038776\n",
       "6741     0.020408\n",
       "7550     0.018367\n",
       "Name: count, dtype: float64"
      ]
     },
     "execution_count": 35,
     "metadata": {},
     "output_type": "execute_result"
    }
   ],
   "execution_count": 35
  },
  {
   "metadata": {},
   "cell_type": "code",
   "outputs": [],
   "execution_count": null,
   "source": "",
   "id": "a36eca0874a9fb1a"
  }
 ],
 "metadata": {
  "kernelspec": {
   "display_name": "Python 3",
   "language": "python",
   "name": "python3"
  },
  "language_info": {
   "codemirror_mode": {
    "name": "ipython",
    "version": 2
   },
   "file_extension": ".py",
   "mimetype": "text/x-python",
   "name": "python",
   "nbconvert_exporter": "python",
   "pygments_lexer": "ipython2",
   "version": "2.7.6"
  }
 },
 "nbformat": 4,
 "nbformat_minor": 5
}
