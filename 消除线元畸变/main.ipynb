{
 "cells": [
  {
   "cell_type": "code",
   "id": "initial_id",
   "metadata": {
    "collapsed": true,
    "ExecuteTime": {
     "end_time": "2025-03-03T09:46:50.787070Z",
     "start_time": "2025-03-03T09:46:50.771960Z"
    }
   },
   "source": [
    "from collections import defaultdict\n",
    "\n",
    "import cv2\n",
    "from PIL import Image, ImageDraw\n",
    "import numpy as np\n",
    "import random\n",
    "import os\n",
    "import math\n",
    "from tqdm.contrib import itertools\n",
    "\n",
    "from yacs.config import CfgNode as CN\n",
    "\n",
    "from utils.detect_connect import detect_anything"
   ],
   "outputs": [],
   "execution_count": 2
  },
  {
   "metadata": {
    "ExecuteTime": {
     "end_time": "2025-03-03T09:47:37.839257Z",
     "start_time": "2025-03-03T09:46:51.368627Z"
    }
   },
   "cell_type": "code",
   "source": [
    "from utils.detect_line import *\n",
    "ori_img = cv2.imread('../static/img/1.png')\n",
    "\n",
    "elines = get_eline_faster(ori_img, get_cfg_defaults())"
   ],
   "id": "339c18de274e341c",
   "outputs": [],
   "execution_count": 3
  },
  {
   "metadata": {
    "ExecuteTime": {
     "end_time": "2025-03-03T09:47:45.038004Z",
     "start_time": "2025-03-03T09:47:43.890375Z"
    }
   },
   "cell_type": "code",
   "source": [
    "elines = [[eline.pt1, eline.pt2, eline.color] for eline in elines]\n",
    "elines\n",
    "len(elines)"
   ],
   "id": "aaab2200c4962d12",
   "outputs": [
    {
     "data": {
      "text/plain": [
       "1198060"
      ]
     },
     "execution_count": 4,
     "metadata": {},
     "output_type": "execute_result"
    }
   ],
   "execution_count": 4
  },
  {
   "metadata": {
    "ExecuteTime": {
     "end_time": "2025-03-03T09:50:27.632251Z",
     "start_time": "2025-03-03T09:47:46.783222Z"
    }
   },
   "cell_type": "code",
   "source": [
    "def is_pt_on_line(pt, line):\n",
    "    \"\"\"\n",
    "    这个函数用于判断一个点(x, y)是否在一条线段上[[x1, y1], [x2, y2]]\n",
    "    :param pt: (x, y)\n",
    "    :param line: [[x1, y1], [x2, y2]]\n",
    "    :return: bool\n",
    "    \"\"\"\n",
    "    x, y = pt\n",
    "    x1, y1 = line[0]\n",
    "    x2, y2 = line[1]\n",
    "    if x1 == x2 == x and (y1 - y) * (y2 - y) < 0:\n",
    "        return True\n",
    "    if y1 == y2 == y and (x1 - x) * (x2 - x) < 0:\n",
    "        return True\n",
    "    return False\n",
    "\n",
    "def is_half_cross(line1, line2):\n",
    "    \"\"\"\n",
    "    判断两直线是否半交叉，即是否存在“丁字路口”\n",
    "    :param line1: [[x1, y1], [x2, y2], ...]\n",
    "    :param line2: ditto ↑\n",
    "    :return: bool\n",
    "    \"\"\"\n",
    "    x1, y1 = line1[0]\n",
    "    x2, y2 = line1[1]\n",
    "    x3, y3 = line2[0]\n",
    "    x4, y4 = line2[1]\n",
    "    if is_pt_on_line([x1, y1], line2) or is_pt_on_line([x2, y2], line2):\n",
    "        return True\n",
    "    if is_pt_on_line([x3, y3], line1) or is_pt_on_line([x4, y4], line1):\n",
    "        return True\n",
    "    else:\n",
    "        return False\n",
    "\n",
    "pairs = detect_anything(elines, 1000, is_half_cross)\n",
    "pairs"
   ],
   "id": "38b577d9a9eed271",
   "outputs": [
    {
     "name": "stderr",
     "output_type": "stream",
     "text": [
      "  0%|          | 0/308 [02:27<?, ?it/s]\n"
     ]
    },
    {
     "ename": "KeyboardInterrupt",
     "evalue": "",
     "output_type": "error",
     "traceback": [
      "\u001B[1;31m---------------------------------------------------------------------------\u001B[0m",
      "\u001B[1;31mKeyboardInterrupt\u001B[0m                         Traceback (most recent call last)",
      "Cell \u001B[1;32mIn[5], line 35\u001B[0m\n\u001B[0;32m     32\u001B[0m     \u001B[38;5;28;01melse\u001B[39;00m:\n\u001B[0;32m     33\u001B[0m         \u001B[38;5;28;01mreturn\u001B[39;00m \u001B[38;5;28;01mFalse\u001B[39;00m\n\u001B[1;32m---> 35\u001B[0m pairs \u001B[38;5;241m=\u001B[39m \u001B[43mdetect_anything\u001B[49m\u001B[43m(\u001B[49m\u001B[43melines\u001B[49m\u001B[43m,\u001B[49m\u001B[43m \u001B[49m\u001B[38;5;241;43m1000\u001B[39;49m\u001B[43m,\u001B[49m\u001B[43m \u001B[49m\u001B[43mis_half_cross\u001B[49m\u001B[43m)\u001B[49m\n\u001B[0;32m     36\u001B[0m pairs\n",
      "File \u001B[1;32mE:\\code\\pythonCode\\BIM\\utils\\detect_connect.py:406\u001B[0m, in \u001B[0;36mdetect_anything\u001B[1;34m(lines, grid_size, pattern)\u001B[0m\n\u001B[0;32m    404\u001B[0m         \u001B[38;5;28;01mfor\u001B[39;00m idx, line1_idx \u001B[38;5;129;01min\u001B[39;00m \u001B[38;5;28menumerate\u001B[39m(lines_in_grid):\n\u001B[0;32m    405\u001B[0m             \u001B[38;5;28;01mfor\u001B[39;00m jdx, line2_idx \u001B[38;5;129;01min\u001B[39;00m \u001B[38;5;28menumerate\u001B[39m(lines_in_grid[idx \u001B[38;5;241m+\u001B[39m \u001B[38;5;241m1\u001B[39m:]):\n\u001B[1;32m--> 406\u001B[0m                 \u001B[38;5;28;01mif\u001B[39;00m \u001B[43mpattern\u001B[49m\u001B[43m(\u001B[49m\u001B[43mlines\u001B[49m\u001B[43m[\u001B[49m\u001B[43mline1_idx\u001B[49m\u001B[43m]\u001B[49m\u001B[43m,\u001B[49m\u001B[43m \u001B[49m\u001B[43mlines\u001B[49m\u001B[43m[\u001B[49m\u001B[43mline2_idx\u001B[49m\u001B[43m]\u001B[49m\u001B[43m)\u001B[49m:\n\u001B[0;32m    407\u001B[0m                     pairs\u001B[38;5;241m.\u001B[39mappend((line1_idx, line2_idx))\n\u001B[0;32m    409\u001B[0m \u001B[38;5;28;01mreturn\u001B[39;00m pairs\n",
      "Cell \u001B[1;32mIn[5], line 26\u001B[0m, in \u001B[0;36mis_half_cross\u001B[1;34m(line1, line2)\u001B[0m\n\u001B[0;32m     24\u001B[0m x1, y1 \u001B[38;5;241m=\u001B[39m line1[\u001B[38;5;241m0\u001B[39m]\n\u001B[0;32m     25\u001B[0m x2, y2 \u001B[38;5;241m=\u001B[39m line1[\u001B[38;5;241m1\u001B[39m]\n\u001B[1;32m---> 26\u001B[0m x3, y3 \u001B[38;5;241m=\u001B[39m line2[\u001B[38;5;241m0\u001B[39m]\n\u001B[0;32m     27\u001B[0m x4, y4 \u001B[38;5;241m=\u001B[39m line2[\u001B[38;5;241m1\u001B[39m]\n\u001B[0;32m     28\u001B[0m \u001B[38;5;28;01mif\u001B[39;00m is_pt_on_line([x1, y1], line2) \u001B[38;5;129;01mor\u001B[39;00m is_pt_on_line([x2, y2], line2):\n",
      "\u001B[1;31mKeyboardInterrupt\u001B[0m: "
     ]
    }
   ],
   "execution_count": 5
  },
  {
   "metadata": {},
   "cell_type": "code",
   "outputs": [],
   "execution_count": null,
   "source": "",
   "id": "4fe6d315b9a07b97"
  }
 ],
 "metadata": {
  "kernelspec": {
   "display_name": "Python 3",
   "language": "python",
   "name": "python3"
  },
  "language_info": {
   "codemirror_mode": {
    "name": "ipython",
    "version": 2
   },
   "file_extension": ".py",
   "mimetype": "text/x-python",
   "name": "python",
   "nbconvert_exporter": "python",
   "pygments_lexer": "ipython2",
   "version": "2.7.6"
  }
 },
 "nbformat": 4,
 "nbformat_minor": 5
}
