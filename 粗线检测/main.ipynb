{
 "cells": [
  {
   "cell_type": "code",
   "id": "initial_id",
   "metadata": {
    "collapsed": true,
    "ExecuteTime": {
     "end_time": "2025-03-01T13:59:14.435882Z",
     "start_time": "2025-03-01T13:59:14.009941Z"
    }
   },
   "source": [
    "import os\n",
    "\n",
    "import cv2\n",
    "from PIL import Image\n",
    "import random\n",
    "import numpy as np\n",
    "from utils.detect_line import detect_lines"
   ],
   "outputs": [],
   "execution_count": 1
  },
  {
   "metadata": {
    "ExecuteTime": {
     "end_time": "2025-03-01T14:05:01.405901Z",
     "start_time": "2025-03-01T14:04:57.920882Z"
    }
   },
   "cell_type": "code",
   "source": [
    "ori_img = cv2.imread('../static/img/b1.png')\n",
    "img = ori_img[4450:4600, 4150:4300]\n",
    "Image.fromarray(img)"
   ],
   "id": "44b3edf67cf0868b",
   "outputs": [
    {
     "data": {
      "text/plain": [
       "<PIL.Image.Image image mode=RGB size=150x150>"
      ],
      "image/png": "[encoded data removed]",
      "image/jpeg": "[encoded data removed]"
     },
     "execution_count": 12,
     "metadata": {},
     "output_type": "execute_result"
    }
   ],
   "execution_count": 12
  },
  {
   "metadata": {
    "ExecuteTime": {
     "end_time": "2025-03-01T14:12:52.565445Z",
     "start_time": "2025-03-01T14:12:52.545816Z"
    }
   },
   "cell_type": "code",
   "source": [
    "# 获取轮廓\n",
    "def get_contours(img):\n",
    "    gray = cv2.cvtColor(img, cv2.COLOR_BGR2GRAY)\n",
    "    _, binary = cv2.threshold(gray, 0, 255, cv2.THRESH_BINARY + cv2.THRESH_OTSU)\n",
    "    nowhite = np.where(binary != 255)\n",
    "    nowhite = set(zip(*nowhite))\n",
    "\n",
    "    white = np.ones_like(img, dtype=np.uint8 ) * 255\n",
    "    for x, y in nowhite:\n",
    "        for dx, dy in zip([0, 1, 0, -1], [1, 0, -1, 0]):\n",
    "            if (x + dx, y + dy) not in nowhite:\n",
    "                white[x, y] = img[x, y]\n",
    "    return white\n",
    "\n",
    "contours_img = get_contours(img)\n",
    "Image.fromarray(contours_img)"
   ],
   "id": "9ed827010c9ae9a9",
   "outputs": [
    {
     "data": {
      "text/plain": [
       "<PIL.Image.Image image mode=RGB size=150x150>"
      ],
      "image/png": "[encoded data removed]",
      "image/jpeg": "[encoded data removed]"
     },
     "execution_count": 25,
     "metadata": {},
     "output_type": "execute_result"
    }
   ],
   "execution_count": 25
  },
  {
   "metadata": {
    "ExecuteTime": {
     "end_time": "2025-03-01T14:14:53.886981Z",
     "start_time": "2025-03-01T14:14:53.870929Z"
    }
   },
   "cell_type": "code",
   "source": [
    "from utils.detect_line import detect_lines\n",
    "lines, _, _ = detect_lines(img)\n",
    "white = np.ones_like(img, dtype=np.uint8 ) * 255\n",
    "for line in lines:\n",
    "    cv2.line(white, line[0], line[1], line[2], 1)\n",
    "Image.fromarray(white)"
   ],
   "id": "36a26ca916e95695",
   "outputs": [
    {
     "data": {
      "text/plain": [
       "<PIL.Image.Image image mode=RGB size=150x150>"
      ],
      "image/png": "[encoded data removed]",
      "image/jpeg": "[encoded data removed]"
     },
     "execution_count": 27,
     "metadata": {},
     "output_type": "execute_result"
    }
   ],
   "execution_count": 27
  },
  {
   "metadata": {
    "ExecuteTime": {
     "end_time": "2025-03-01T14:15:50.476845Z",
     "start_time": "2025-03-01T14:15:50.453783Z"
    }
   },
   "cell_type": "code",
   "source": [
    "contours_img = get_contours(img)\n",
    "for line in lines:\n",
    "    cv2.line(contours_img, line[0], line[1], (255,255,255), 1)\n",
    "Image.fromarray(contours_img)"
   ],
   "id": "b30a74a43f20d309",
   "outputs": [
    {
     "data": {
      "text/plain": [
       "<PIL.Image.Image image mode=RGB size=150x150>"
      ],
      "image/png": "[encoded data removed]",
      "image/jpeg": "[encoded data removed]"
     },
     "execution_count": 28,
     "metadata": {},
     "output_type": "execute_result"
    }
   ],
   "execution_count": 28
  }
 ],
 "metadata": {
  "kernelspec": {
   "display_name": "Python 3",
   "language": "python",
   "name": "python3"
  },
  "language_info": {
   "codemirror_mode": {
    "name": "ipython",
    "version": 2
   },
   "file_extension": ".py",
   "mimetype": "text/x-python",
   "name": "python",
   "nbconvert_exporter": "python",
   "pygments_lexer": "ipython2",
   "version": "2.7.6"
  }
 },
 "nbformat": 4,
 "nbformat_minor": 5
}
