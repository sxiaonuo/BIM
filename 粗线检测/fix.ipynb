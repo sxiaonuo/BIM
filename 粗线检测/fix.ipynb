{
 "cells": [
  {
   "cell_type": "code",
   "id": "2d96e3a0144a827a",
   "metadata": {
    "ExecuteTime": {
     "end_time": "2025-03-01T09:23:34.118254Z",
     "start_time": "2025-03-01T09:23:34.100391Z"
    }
   },
   "source": [
    "import numpy as np\n",
    "import cv2\n",
    "from PIL import Image, ImageDraw\n",
    "import os\n",
    "import random"
   ],
   "outputs": [],
   "execution_count": 51
  },
  {
   "metadata": {
    "ExecuteTime": {
     "end_time": "2025-03-01T09:47:21.351113Z",
     "start_time": "2025-03-01T09:47:10.496327Z"
    }
   },
   "cell_type": "code",
   "source": [
    "# 读取png图像\n",
    "img0 = cv2.imread('D:/renwu/cuxian1.png')\n",
    "img = img0[4450:4600, 4150:4300]\n",
    "Image.fromarray(img)"
   ],
   "id": "f5872a7ba9bb463c",
   "outputs": [
    {
     "data": {
      "text/plain": [
       "<PIL.Image.Image image mode=RGB size=150x150>"
      ],
      "image/png": "[encoded data removed]",
      "image/jpeg": "[encoded data removed]"
     },
     "execution_count": 62,
     "metadata": {},
     "output_type": "execute_result"
    }
   ],
   "execution_count": 62
  },
  {
   "metadata": {},
   "cell_type": "code",
   "outputs": [],
   "execution_count": null,
   "source": "",
   "id": "365fe3bee6ae48a8"
  },
  {
   "metadata": {
    "ExecuteTime": {
     "end_time": "2025-03-01T09:47:21.459034Z",
     "start_time": "2025-03-01T09:47:21.354714Z"
    }
   },
   "cell_type": "code",
   "source": [
    " # 将图像转换为灰度图像\n",
    "gray = cv2.cvtColor(img, cv2.COLOR_BGR2GRAY)\n",
    "    # 对图像进行二值化处理\n",
    "_, binary = cv2.threshold(gray, 254, 255, cv2.THRESH_BINARY)\n",
    "Image.fromarray(binary)"
   ],
   "id": "58e5152032795d8",
   "outputs": [
    {
     "data": {
      "text/plain": [
       "<PIL.Image.Image image mode=L size=150x150>"
      ],
      "image/png": "[encoded data removed]",
      "image/jpeg": "[encoded data removed]"
     },
     "execution_count": 63,
     "metadata": {},
     "output_type": "execute_result"
    }
   ],
   "execution_count": 63
  },
  {
   "metadata": {
    "ExecuteTime": {
     "end_time": "2025-03-01T09:47:21.521768Z",
     "start_time": "2025-03-01T09:47:21.462493Z"
    }
   },
   "cell_type": "code",
   "source": [
    "# 闭运算和细化\n",
    "kernel = np.ones((3, 3), np.uint8)\n",
    "closing = cv2.morphologyEx(binary, cv2.MORPH_CLOSE, kernel)\n",
    "Image.fromarray(closing)"
   ],
   "id": "df186c92fa499409",
   "outputs": [
    {
     "data": {
      "text/plain": [
       "<PIL.Image.Image image mode=L size=150x150>"
      ],
      "image/png": "[encoded data removed]",
      "image/jpeg": "[encoded data removed]"
     },
     "execution_count": 64,
     "metadata": {},
     "output_type": "execute_result"
    }
   ],
   "execution_count": 64
  },
  {
   "metadata": {
    "collapsed": true,
    "ExecuteTime": {
     "end_time": "2025-03-01T09:47:24.241199Z",
     "start_time": "2025-03-01T09:47:24.156763Z"
    }
   },
   "cell_type": "code",
   "source": [
    "\n",
    "rows, cols = binary.shape\n",
    "result = np.copy(closing)\n",
    "\n",
    "# 遍历图像中的每个像素\n",
    "for i in range(1, rows - 1):\n",
    "    for j in range(1, cols - 1):\n",
    "            # 检查相邻像素是否有白色像素\n",
    "        neighbors = [\n",
    "            binary[i - 1, j - 1], binary[i - 1, j], binary[i - 1, j + 1],\n",
    "            binary[i, j - 1], binary[i, j + 1],\n",
    "            binary[i + 1, j - 1], binary[i + 1, j], binary[i + 1, j + 1]\n",
    "        ]\n",
    "        has_white_neighbor = any(neighbor == 255 for neighbor in neighbors)\n",
    "        if not has_white_neighbor:\n",
    "                # 将不满足条件的像素置为白色\n",
    "            result[i, j] = [ 255, 255, 255]\n",
    "\n",
    "Image.fromarray(result)"
   ],
   "id": "initial_id",
   "outputs": [
    {
     "ename": "TypeError",
     "evalue": "int() argument must be a string, a bytes-like object or a number, not 'list'",
     "output_type": "error",
     "traceback": [
      "\u001B[1;31m---------------------------------------------------------------------------\u001B[0m",
      "\u001B[1;31mTypeError\u001B[0m                                 Traceback (most recent call last)",
      "Cell \u001B[1;32mIn[65], line 16\u001B[0m\n\u001B[0;32m     13\u001B[0m         has_white_neighbor \u001B[38;5;241m=\u001B[39m \u001B[38;5;28many\u001B[39m(neighbor \u001B[38;5;241m==\u001B[39m \u001B[38;5;241m255\u001B[39m \u001B[38;5;28;01mfor\u001B[39;00m neighbor \u001B[38;5;129;01min\u001B[39;00m neighbors)\n\u001B[0;32m     14\u001B[0m         \u001B[38;5;28;01mif\u001B[39;00m \u001B[38;5;129;01mnot\u001B[39;00m has_white_neighbor:\n\u001B[0;32m     15\u001B[0m                 \u001B[38;5;66;03m# 将不满足条件的像素置为白色\u001B[39;00m\n\u001B[1;32m---> 16\u001B[0m             result[i, j] \u001B[38;5;241m=\u001B[39m [ \u001B[38;5;241m255\u001B[39m, \u001B[38;5;241m255\u001B[39m, \u001B[38;5;241m255\u001B[39m]\n\u001B[0;32m     18\u001B[0m Image\u001B[38;5;241m.\u001B[39mfromarray(result)\n",
      "\u001B[1;31mTypeError\u001B[0m: int() argument must be a string, a bytes-like object or a number, not 'list'"
     ]
    }
   ],
   "execution_count": 65
  },
  {
   "metadata": {},
   "cell_type": "markdown",
   "source": "",
   "id": "f3032bb0177c8fc4"
  },
  {
   "metadata": {
    "ExecuteTime": {
     "end_time": "2025-03-01T09:47:27.731152Z",
     "start_time": "2025-03-01T09:47:27.635391Z"
    }
   },
   "cell_type": "code",
   "source": [
    "output_folder = 'D:/renwu/cuxianchuliwan/'\n",
    "if not os.path.exists(output_folder):\n",
    "    os.makedirs(output_folder)\n",
    "cv2.imwrite(os.path.join(output_folder, 'fix2.png'), result)"
   ],
   "id": "de7d60eccffa55f",
   "outputs": [
    {
     "data": {
      "text/plain": [
       "True"
      ]
     },
     "execution_count": 66,
     "metadata": {},
     "output_type": "execute_result"
    }
   ],
   "execution_count": 66
  },
  {
   "metadata": {
    "ExecuteTime": {
     "end_time": "2025-03-01T09:47:39.148954Z",
     "start_time": "2025-03-01T09:47:38.919962Z"
    }
   },
   "cell_type": "code",
   "source": [
    "# 将图像转换为灰度图像\n",
    "gray = cv2.cvtColor(img, cv2.COLOR_BGR2GRAY)\n",
    "_, binary = cv2.threshold(gray, 254, 255, cv2.THRESH_OTSU)\n",
    "rows, cols = binary.shape\n",
    "binary_padded = np.pad(binary, 1, mode='constant', constant_values=0)\n",
    "binary_padded = binary_padded[1:-1, 1:-1]\n",
    "binary_padded = binary_padded.astype(np.uint8)\n",
    "    \n",
    "# 定义用于检查相邻像素的卷积核\n",
    "kernel = np.array([[1, 1, 1], [1, 0, 1], [1, 1, 1]], dtype=np.uint8)\n",
    "# 使用卷积操作检查相邻像素是否有白色像素\n",
    "convolution_result = cv2.filter2D(binary_padded, -1, kernel)\n",
    "mask = convolution_result > 0\n",
    "result = np.copy(img)\n",
    "result[~mask] = [255, 255, 255]\n",
    "Image.fromarray(result)"
   ],
   "id": "89b5ad422dce56a7",
   "outputs": [
    {
     "data": {
      "text/plain": [
       "<PIL.Image.Image image mode=RGB size=150x150>"
      ],
      "image/png": "[encoded data removed]",
      "image/jpeg": "[encoded data removed]"
     },
     "execution_count": 68,
     "metadata": {},
     "output_type": "execute_result"
    }
   ],
   "execution_count": 68
  },
  {
   "metadata": {
    "ExecuteTime": {
     "end_time": "2025-03-01T09:11:01.782239Z",
     "start_time": "2025-03-01T09:11:01.769056Z"
    }
   },
   "cell_type": "code",
   "source": [
    "output_folder = 'D:/renwu/cuxianchuliwan/'\n",
    "if not os.path.exists(output_folder):\n",
    "    os.makedirs(output_folder)\n",
    "cv2.imwrite(os.path.join(output_folder, 'fix.png'), result)"
   ],
   "id": "91d333580b6753b8",
   "outputs": [
    {
     "data": {
      "text/plain": [
       "True"
      ]
     },
     "execution_count": 50,
     "metadata": {},
     "output_type": "execute_result"
    }
   ],
   "execution_count": 50
  },
  {
   "metadata": {
    "ExecuteTime": {
     "end_time": "2025-03-01T08:37:03.210638Z",
     "start_time": "2025-03-01T08:37:03.090499Z"
    }
   },
   "cell_type": "code",
   "source": [
    "def detect_one_img(img, cfg):\n",
    "    \"\"\"\n",
    "    修改后的函数，支持直接传入 result 图像。\n",
    "    img: 输入图像（可以是 BGR 彩色图像或灰度图像）。\n",
    "    cfg: 配置对象。\n",
    "    \"\"\"\n",
    "    # 如果输入是彩色图像（3 通道），转换为灰度图像\n",
    "    if len(img.shape) == 3 and img.shape[2] == 3:\n",
    "        img = cv2.cvtColor(img, cv2.COLOR_BGR2GRAY)\n",
    "    \n",
    "    # 如果输入不是二值图像，进行二值化处理\n",
    "    if img.dtype != np.uint8 or np.max(img) > 1:\n",
    "        _, img = cv2.threshold(img, 254, 255, cv2.THRESH_BINARY)\n",
    "\n",
    "    # 以下是原有逻辑\n",
    "    elines = get_eline_faster(img, cfg)\n",
    "    cfs = getlinks(elines, cfg)\n",
    "    elines_group_by_line = []\n",
    "\n",
    "    # 先遍历1-5纯血直线\n",
    "    group_by_volume = {}\n",
    "    for idx, eline in enumerate(elines):\n",
    "        if eline.volume not in group_by_volume:\n",
    "            group_by_volume[eline.volume] = []\n",
    "        group_by_volume[eline.volume].append(idx)\n",
    "    uf = UnionFind(len(elines))\n",
    "    for it in range(1, 6):\n",
    "        if it not in group_by_volume:\n",
    "            continue\n",
    "        for eline_idx in group_by_volume[it]:\n",
    "            eline = elines[eline_idx]\n",
    "            for eline2_idx in cfs.get_neighbors(eline_idx):\n",
    "                eline2 = elines[eline2_idx]\n",
    "                if (eline.color == eline2.color and eline.volume == eline2.volume and eline.dir_eq(eline2.dir)\n",
    "                        and (eline.volume == 1 or (eline.k1 + eline2.k2) and (eline2.k1 + eline.k2))):\n",
    "                    uf.union(eline_idx, eline2_idx)\n",
    "\n",
    "    sets = uf.get_sets()\n",
    "    # 剩余的线  用来再做一次上面的操作\n",
    "    other_elines = []\n",
    "    for i, set_ in enumerate(sets):\n",
    "        color = (random.randint(0, 255), random.randint(0, 255), random.randint(0, 255))\n",
    "        if len(set_) >= cfg.MAX_CONTINUE:\n",
    "            elines_group_by_line.append(set_)\n",
    "        else:\n",
    "            for j in set_:\n",
    "                other_elines.append(j)\n",
    "\n",
    "    # 混合遍历 , 大1 小1 等于\n",
    "    group_by_volume = {}\n",
    "    for idx in other_elines:\n",
    "        eline = elines[idx]\n",
    "        if eline.volume not in group_by_volume:\n",
    "            group_by_volume[eline.volume] = []\n",
    "        group_by_volume[eline.volume].append(idx)\n",
    "\n",
    "    uf = UnionFind(len(elines))  # 重置并查集\n",
    "    for key in group_by_volume.keys():\n",
    "        for di in [-1, 0, 1]:\n",
    "            if key + di in group_by_volume.keys():\n",
    "                for eline1_idx in group_by_volume[key]:\n",
    "                    eline1 = elines[eline1_idx]\n",
    "                    for eline2_idx in cfs.get_neighbors(eline1_idx):\n",
    "                        eline2 = elines[eline2_idx]\n",
    "                        if eline1.color == eline2.color and eline2_idx in group_by_volume[key + di] and eline1.dir_eq(\n",
    "                                eline2.dir) and (\n",
    "                                eline1.volume == 1 or (eline1.k1 + eline2.k2) and (eline2.k1 + eline1.k2)):\n",
    "                            uf.union(eline1_idx, eline2_idx)\n",
    "    # 合并罢了\n",
    "    sets = uf.get_sets()\n",
    "    for i, set_ in enumerate(sets):\n",
    "        if len(set_) > 1:\n",
    "            elines_group_by_line.append(set_)\n",
    "        else:\n",
    "            if set_[0] in other_elines:\n",
    "                elines_group_by_line.append(set_)\n",
    "\n",
    "    len(elines_group_by_line)\n",
    "    egbl = []  # 真的不知道该怎么起名了\n",
    "    for group in elines_group_by_line:\n",
    "        egbl.append([elines[i] for i in group])\n",
    "    # 黏合线元为直线，包含上颜色\n",
    "    lines = [merge_eline(group) for group in egbl]\n",
    "\n",
    "    return lines, elines\n",
    "lines, elines = detect_one_img(result, cfg)\n",
    "\n",
    "result_img, lines, elines = detect_one_img(result, cfg)\n",
    "\n",
    "# 显示结果\n",
    "Image.fromarray(result_img)"
   ],
   "id": "94ea2a7cda35428b",
   "outputs": [
    {
     "ename": "NameError",
     "evalue": "name 'cfg' is not defined",
     "output_type": "error",
     "traceback": [
      "\u001B[1;31m---------------------------------------------------------------------------\u001B[0m",
      "\u001B[1;31mNameError\u001B[0m                                 Traceback (most recent call last)",
      "Cell \u001B[1;32mIn[46], line 86\u001B[0m\n\u001B[0;32m     83\u001B[0m     lines \u001B[38;5;241m=\u001B[39m [merge_eline(group) \u001B[38;5;28;01mfor\u001B[39;00m group \u001B[38;5;129;01min\u001B[39;00m egbl]\n\u001B[0;32m     85\u001B[0m     \u001B[38;5;28;01mreturn\u001B[39;00m lines, elines\n\u001B[1;32m---> 86\u001B[0m lines, elines \u001B[38;5;241m=\u001B[39m detect_one_img(result, \u001B[43mcfg\u001B[49m)\n\u001B[0;32m     87\u001B[0m \u001B[38;5;66;03m# 假设 result 是你的图像处理结果\u001B[39;00m\n\u001B[0;32m     88\u001B[0m result_img, lines, elines \u001B[38;5;241m=\u001B[39m detect_one_img(result, cfg)\n",
      "\u001B[1;31mNameError\u001B[0m: name 'cfg' is not defined"
     ]
    }
   ],
   "execution_count": 46
  },
  {
   "metadata": {
    "ExecuteTime": {
     "end_time": "2025-03-01T08:37:18.979244Z",
     "start_time": "2025-03-01T08:37:18.825201Z"
    }
   },
   "cell_type": "code",
   "source": "lines, elines = detect_one_img(result, cfg)",
   "id": "b4d73bafeae599f9",
   "outputs": [
    {
     "ename": "NameError",
     "evalue": "name 'cfg' is not defined",
     "output_type": "error",
     "traceback": [
      "\u001B[1;31m---------------------------------------------------------------------------\u001B[0m",
      "\u001B[1;31mNameError\u001B[0m                                 Traceback (most recent call last)",
      "Cell \u001B[1;32mIn[47], line 1\u001B[0m\n\u001B[1;32m----> 1\u001B[0m lines, elines \u001B[38;5;241m=\u001B[39m detect_one_img(result, \u001B[43mcfg\u001B[49m)\n",
      "\u001B[1;31mNameError\u001B[0m: name 'cfg' is not defined"
     ]
    }
   ],
   "execution_count": 47
  },
  {
   "metadata": {},
   "cell_type": "code",
   "outputs": [],
   "execution_count": null,
   "source": "",
   "id": "d7e3a0ccc932c5e0"
  },
  {
   "metadata": {
    "ExecuteTime": {
     "end_time": "2025-03-01T07:36:31.904764Z",
     "start_time": "2025-03-01T07:36:31.875842Z"
    }
   },
   "cell_type": "code",
   "source": [
    "# 提取线段信息：基于连通区域\n",
    "binary_result = cv2.cvtColor(result, cv2.COLOR_BGR2GRAY)  # 转换为灰度图像\n",
    "_, binary_result = cv2.threshold(binary_result, 254, 255, cv2.THRESH_BINARY_INV)  # 反转二值化\n",
    "num_labels, labels, stats, centroids = cv2.connectedComponentsWithStats(binary_result, connectivity=8)\n",
    "\n",
    "elines = []\n",
    "for i in range(1, num_labels):  # 跳过背景（标签 0）\n",
    "    x, y, w, h, area = stats[i]\n",
    "    if w > 1 or h > 1:  # 过滤掉单个像素点\n",
    "        elines.append({\"pt1\": (x, y), \"pt2\": (x + w - 1, y + h - 1)})\n",
    "\n",
    "# 第二段代码：在白色背景上绘制随机颜色的线段\n",
    "white = np.ones_like(result) * 255\n",
    "for el in elines:\n",
    "    color = (random.randint(0, 255), random.randint(0, 255), random.randint(0, 255))\n",
    "    cv2.line(white, el[\"pt1\"], el[\"pt2\"], color, 1)\n",
    "\n",
    "# 显示结果\n",
    "Image.fromarray(white)"
   ],
   "id": "21dba573638f60b3",
   "outputs": [
    {
     "data": {
      "text/plain": [
       "<PIL.Image.Image image mode=RGB size=150x150>"
      ],
      "image/png": "[encoded data removed]",
      "image/jpeg": "[encoded data removed]"
     },
     "execution_count": 45,
     "metadata": {},
     "output_type": "execute_result"
    }
   ],
   "execution_count": 45
  },
  {
   "metadata": {},
   "cell_type": "code",
   "outputs": [],
   "execution_count": null,
   "source": "",
   "id": "10ed24f0d140e6c5"
  },
  {
   "metadata": {
    "ExecuteTime": {
     "end_time": "2025-03-01T07:34:30.237915Z",
     "start_time": "2025-03-01T07:34:29.972005Z"
    }
   },
   "cell_type": "code",
   "source": [
    "# 提取线段信息（按行和列分别提取）\n",
    "elines = []\n",
    "\n",
    "# 按行提取水平线段\n",
    "for y in range(result.shape[0]):  # 遍历每一行\n",
    "    line_segments = []\n",
    "    for x in range(result.shape[1]):  # 遍历每一列\n",
    "        if not np.array_equal(result[y, x], [255, 255, 255]):  # 如果像素不是白色\n",
    "            if not line_segments:\n",
    "                line_segments.append((x, y))  # 线段的起点\n",
    "            else:\n",
    "                line_segments.append((x, y))  # 线段的中间点\n",
    "        else:\n",
    "            if line_segments:\n",
    "                elines.append({\"pt1\": line_segments[0], \"pt2\": line_segments[-1]})  # 存储线段\n",
    "                line_segments = []  # 重置线段\n",
    "    if line_segments:  # 处理行末尾的线段\n",
    "        elines.append({\"pt1\": line_segments[0], \"pt2\": line_segments[-1]})\n",
    "\n",
    "# 按列提取垂直线段\n",
    "for x in range(result.shape[1]):  # 遍历每一列\n",
    "    line_segments = []\n",
    "    for y in range(result.shape[0]):  # 遍历每一行\n",
    "        if not np.array_equal(result[y, x], [255, 255, 255]):  # 如果像素不是白色\n",
    "            if not line_segments:\n",
    "                line_segments.append((x, y))  # 线段的起点\n",
    "            else:\n",
    "                line_segments.append((x, y))  # 线段的中间点\n",
    "        else:\n",
    "            if line_segments:\n",
    "                elines.append({\"pt1\": line_segments[0], \"pt2\": line_segments[-1]})  # 存储线段\n",
    "                line_segments = []  # 重置线段\n",
    "    if line_segments:  # 处理列末尾的线段\n",
    "        elines.append({\"pt1\": line_segments[0], \"pt2\": line_segments[-1]})\n",
    "\n",
    "# 第二段代码：在白色背景上绘制随机颜色的线段\n",
    "white = np.ones_like(result) * 255\n",
    "for el in elines:\n",
    "    color = (random.randint(0, 255), random.randint(0, 255), random.randint(0, 255))\n",
    "    cv2.line(white, el[\"pt1\"], el[\"pt2\"], color, 1)\n",
    "\n",
    "# 显示结果\n",
    "Image.fromarray(white)"
   ],
   "id": "a0b80e5f19ec5410",
   "outputs": [
    {
     "data": {
      "text/plain": [
       "<PIL.Image.Image image mode=RGB size=150x150>"
      ],
      "image/png": "[encoded data removed]",
      "image/jpeg": "[encoded data removed]"
     },
     "execution_count": 42,
     "metadata": {},
     "output_type": "execute_result"
    }
   ],
   "execution_count": 42
  },
  {
   "metadata": {
    "ExecuteTime": {
     "end_time": "2025-03-01T07:04:57.668846Z",
     "start_time": "2025-03-01T07:04:57.656835Z"
    }
   },
   "cell_type": "code",
   "source": [
    "# 从 result 中提取线段信息\n",
    "edges = cv2.Canny(result, 50, 150, apertureSize=3) # 使用 Canny 边缘检测\n",
    "Image.fromarray(edges)"
   ],
   "id": "57b2967ef8a5a92b",
   "outputs": [
    {
     "data": {
      "text/plain": [
       "<PIL.Image.Image image mode=L size=150x150>"
      ],
      "image/png": "[encoded data removed]",
      "image/jpeg": "[encoded data removed]"
     },
     "execution_count": 36,
     "metadata": {},
     "output_type": "execute_result"
    }
   ],
   "execution_count": 36
  },
  {
   "metadata": {
    "ExecuteTime": {
     "end_time": "2025-03-01T07:34:41.289699Z",
     "start_time": "2025-03-01T07:34:41.266978Z"
    }
   },
   "cell_type": "code",
   "source": [
    "lines = cv2.HoughLinesP(edges, 1, np.pi / 180, threshold=50, minLineLength=50, maxLineGap=10)\n",
    "\n",
    "# 将线段信息存储到 elines 中\n",
    "elines = []\n",
    "if lines is not None:\n",
    "    for line in lines:\n",
    "        x1, y1, x2, y2 = line[0]  # 提取线段的起点和终点\n",
    "        elines.append({\"pt1\": (x1, y1), \"pt2\": (x2, y2)})  # 存储为字典\n",
    "\n",
    "# 第二段代码：在白色背景上绘制随机颜色的线段\n",
    "white = np.ones_like(result) * 255\n",
    "for el in elines:\n",
    "    color = (random.randint(0, 255), random.randint(0, 255), random.randint(0, 255))\n",
    "    cv2.line(white, el[\"pt1\"], el[\"pt2\"], color, 1)\n",
    "\n",
    "# 显示结果\n",
    "Image.fromarray(white)"
   ],
   "id": "4ac2b90d6a7d5a7c",
   "outputs": [
    {
     "data": {
      "text/plain": [
       "<PIL.Image.Image image mode=RGB size=150x150>"
      ],
      "image/png": "[encoded data removed]",
      "image/jpeg": "[encoded data removed]"
     },
     "execution_count": 43,
     "metadata": {},
     "output_type": "execute_result"
    }
   ],
   "execution_count": 43
  }
 ],
 "metadata": {
  "kernelspec": {
   "display_name": "Python 3",
   "language": "python",
   "name": "python3"
  },
  "language_info": {
   "codemirror_mode": {
    "name": "ipython",
    "version": 2
   },
   "file_extension": ".py",
   "mimetype": "text/x-python",
   "name": "python",
   "nbconvert_exporter": "python",
   "pygments_lexer": "ipython2",
   "version": "2.7.6"
  }
 },
 "nbformat": 4,
 "nbformat_minor": 5
}
