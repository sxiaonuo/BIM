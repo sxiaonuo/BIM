{
 "cells": [
  {
   "cell_type": "code",
   "id": "initial_id",
   "metadata": {
    "collapsed": true,
    "ExecuteTime": {
     "end_time": "2025-03-29T06:00:13.084545Z",
     "start_time": "2025-03-29T06:00:13.070855Z"
    }
   },
   "source": [
    "import json\n",
    "import os\n",
    "import cv2\n",
    "from PIL import Image\n",
    "import numpy as np\n",
    "from utils.hot import hot_detect_line, hot_detect_connect\n",
    "from utils.detect_connect import get_max_coord,get_min_coord\n",
    "from random import randint\n"
   ],
   "outputs": [],
   "execution_count": 10
  },
  {
   "metadata": {
    "ExecuteTime": {
     "end_time": "2025-03-29T05:35:04.205811Z",
     "start_time": "2025-03-29T05:35:04.201274Z"
    }
   },
   "cell_type": "code",
   "source": "os.chdir(os.path.join(os.getcwd(), \"../\"))",
   "id": "c4a0c504f70e9d1d",
   "outputs": [],
   "execution_count": 2
  },
  {
   "metadata": {
    "ExecuteTime": {
     "end_time": "2025-03-29T05:35:07.575988Z",
     "start_time": "2025-03-29T05:35:04.215310Z"
    }
   },
   "cell_type": "code",
   "source": [
    "img4 = cv2.imread('../static/img/4.png')\n",
    "lines = hot_detect_line('../static/img/4.png')\n",
    "groups = hot_detect_connect('../static/img/4.png')"
   ],
   "id": "1e77f7bcaed3531",
   "outputs": [
    {
     "name": "stdout",
     "output_type": "stream",
     "text": [
      "正在重载 lines 4.png[None:None, None:None]\n",
      "正在重载 connect 4.png[None:None, None:None]\n"
     ]
    }
   ],
   "execution_count": 3
  },
  {
   "metadata": {
    "ExecuteTime": {
     "end_time": "2025-03-29T05:35:07.668921Z",
     "start_time": "2025-03-29T05:35:07.655278Z"
    }
   },
   "cell_type": "code",
   "source": [
    "\"\"\"\n",
    "超参\n",
    "\"\"\"\n",
    "img_size = 1024\n",
    "num_patch = 1000"
   ],
   "id": "2243dd5aa44b9970",
   "outputs": [],
   "execution_count": 4
  },
  {
   "metadata": {
    "ExecuteTime": {
     "end_time": "2025-03-29T05:35:22.330289Z",
     "start_time": "2025-03-29T05:35:07.737557Z"
    }
   },
   "cell_type": "code",
   "source": [
    "\"\"\"\n",
    "在整图上进行数据标注\n",
    "标注格式：\n",
    "（class, (x1, y1), (x2, y2)) # 类型， 左上角， 右下角\n",
    "方法：\n",
    "1. 使用脚本在原图中标记关键点，人工归纳标记点。 [(a, b, c), ... ]\n",
    "2. 处理\n",
    "\"\"\"\n",
    "import pandas as pd\n",
    "\n",
    "def _line_length(line):\n",
    "    return np.sqrt((line[0][0] - line[1][0]) ** 2 + (line[0][1] - line[1][1]) ** 2)\n",
    "\n",
    "# lines_df = pd.DataFrame([[line[0][1], line[0][0], line[1][1], line[1][0], tuple(line[2]), int(_line_length(line))] for line in lines], columns=['x1', 'y1', 'x2', 'y2', 'color', 'length'])\n",
    "\n",
    "pts = []\n",
    "# white = np.ones_like(img4, dtype=np.uint8) * 255\n",
    "white = img4.copy()\n",
    "for line in lines:\n",
    "    if _line_length(line) != 471:\n",
    "        continue\n",
    "    # cv2.line(white, line[0], line[0], (255, 0, 0), 2)\n",
    "    # cv2.putText(white, str(len(pts)), line[0], cv2.FONT_HERSHEY_SIMPLEX, 0.5, (255, 0, 0), 1)\n",
    "    pts.append(line[0])\n",
    "    # cv2.line(white, line[1], line[1], (255, 0, 0), 2)\n",
    "    # cv2.putText(white, str(len(pts)), line[1], cv2.FONT_HERSHEY_SIMPLEX, 0.5, (255, 0, 0), 1)\n",
    "    pts.append(line[1])\n",
    "\n",
    "# 特殊点\n",
    "def to123(pt, d):\n",
    "    x, y = pt[0] + d[0], pt[1] + d[1] #628\n",
    "    return [[x, y], [x, y+60], [x + 471, y], [x + 471, y+60]]\n",
    "pts2 = [*to123(pts[16], [0, -569]), *to123(pts[28], [0, -628]), *to123(pts[30], [0, -628]),\n",
    "        *to123(pts[44], [0, -569]), *to123(pts[96], [0, -628]), *to123(pts[136],[0, -628]),\n",
    "        ]\n",
    "pts = [[pts[512][0], pts[512][1] - 60], [pts[513][0], pts[513][1] - 60]] + pts\n",
    "\n",
    "# for pt in pts2:\n",
    "#     cv2.line(white, pt, pt, (0, 0, 255), 2)\n",
    "#     cv2.putText(white, str(len(pts)), pt, cv2.FONT_HERSHEY_SIMPLEX, 0.5, (0, 0, 255), 1)\n",
    "#     pts.append(pt)\n",
    "# os.makedirs(\"workdir/run\", exist_ok=True)\n",
    "# Image.fromarray(white).save(\"workdir/run/0.png\")\n",
    "\n",
    "# 处理\n",
    "pairs = []\n",
    "for i, pt1 in enumerate(pts):\n",
    "    for j, pt2 in enumerate(pts[i+1:]):\n",
    "        if 62 > pt2[1] - pt1[1] > 58 and 473 > pt2[0] - pt1[0] > 469:\n",
    "            pairs.append([i, j+i+1])\n",
    "            break\n",
    "\n",
    "for pt1, pt2 in pairs:\n",
    "    cv2.rectangle(white, pts[pt1], pts[pt2], (255, 0, 0), 2)\n",
    "os.makedirs(\"workdir/run\", exist_ok=True)\n",
    "Image.fromarray(white).save(\"workdir/run/1.png\")\n",
    "print(len(pairs), len(pts), len(pairs) * 4)\n",
    "pairs"
   ],
   "id": "f3fed63610d6b00c",
   "outputs": [
    {
     "name": "stdout",
     "output_type": "stream",
     "text": [
      "210 840 840\n"
     ]
    },
    {
     "data": {
      "text/plain": [
       "[[0, 515],\n",
       " [2, 5],\n",
       " [6, 9],\n",
       " [10, 13],\n",
       " [14, 17],\n",
       " [18, 21],\n",
       " [22, 25],\n",
       " [26, 29],\n",
       " [30, 35],\n",
       " [32, 37],\n",
       " [38, 43],\n",
       " [40, 45],\n",
       " [46, 51],\n",
       " [48, 53],\n",
       " [54, 59],\n",
       " [56, 61],\n",
       " [62, 67],\n",
       " [64, 69],\n",
       " [70, 73],\n",
       " [74, 77],\n",
       " [78, 81],\n",
       " [82, 85],\n",
       " [86, 89],\n",
       " [90, 93],\n",
       " [94, 97],\n",
       " [98, 103],\n",
       " [100, 105],\n",
       " [106, 111],\n",
       " [108, 113],\n",
       " [114, 117],\n",
       " [118, 121],\n",
       " [122, 125],\n",
       " [126, 129],\n",
       " [130, 133],\n",
       " [134, 137],\n",
       " [138, 141],\n",
       " [142, 145],\n",
       " [146, 149],\n",
       " [150, 153],\n",
       " [154, 157],\n",
       " [158, 163],\n",
       " [160, 165],\n",
       " [166, 171],\n",
       " [168, 173],\n",
       " [174, 179],\n",
       " [176, 181],\n",
       " [182, 187],\n",
       " [184, 189],\n",
       " [190, 195],\n",
       " [192, 197],\n",
       " [198, 201],\n",
       " [202, 205],\n",
       " [206, 209],\n",
       " [210, 213],\n",
       " [214, 217],\n",
       " [218, 221],\n",
       " [222, 225],\n",
       " [226, 229],\n",
       " [230, 233],\n",
       " [234, 239],\n",
       " [236, 241],\n",
       " [242, 247],\n",
       " [244, 249],\n",
       " [250, 255],\n",
       " [252, 257],\n",
       " [258, 263],\n",
       " [260, 265],\n",
       " [266, 269],\n",
       " [270, 273],\n",
       " [274, 277],\n",
       " [278, 281],\n",
       " [282, 285],\n",
       " [286, 289],\n",
       " [290, 293],\n",
       " [294, 297],\n",
       " [298, 301],\n",
       " [302, 305],\n",
       " [306, 309],\n",
       " [310, 313],\n",
       " [314, 317],\n",
       " [318, 321],\n",
       " [322, 325],\n",
       " [326, 329],\n",
       " [330, 333],\n",
       " [334, 337],\n",
       " [338, 341],\n",
       " [342, 345],\n",
       " [346, 349],\n",
       " [350, 355],\n",
       " [352, 357],\n",
       " [358, 363],\n",
       " [360, 365],\n",
       " [366, 371],\n",
       " [368, 373],\n",
       " [374, 377],\n",
       " [378, 381],\n",
       " [382, 385],\n",
       " [386, 389],\n",
       " [390, 393],\n",
       " [394, 397],\n",
       " [398, 401],\n",
       " [402, 405],\n",
       " [406, 409],\n",
       " [410, 413],\n",
       " [414, 417],\n",
       " [418, 421],\n",
       " [422, 425],\n",
       " [426, 429],\n",
       " [430, 433],\n",
       " [434, 437],\n",
       " [438, 441],\n",
       " [442, 445],\n",
       " [446, 451],\n",
       " [448, 453],\n",
       " [454, 459],\n",
       " [456, 461],\n",
       " [462, 467],\n",
       " [464, 469],\n",
       " [470, 473],\n",
       " [474, 477],\n",
       " [478, 481],\n",
       " [482, 485],\n",
       " [486, 489],\n",
       " [490, 493],\n",
       " [494, 497],\n",
       " [498, 501],\n",
       " [502, 505],\n",
       " [506, 509],\n",
       " [510, 513],\n",
       " [516, 519],\n",
       " [520, 523],\n",
       " [524, 527],\n",
       " [528, 531],\n",
       " [532, 535],\n",
       " [536, 539],\n",
       " [540, 545],\n",
       " [542, 547],\n",
       " [548, 553],\n",
       " [550, 555],\n",
       " [556, 561],\n",
       " [558, 563],\n",
       " [564, 567],\n",
       " [568, 571],\n",
       " [572, 575],\n",
       " [576, 579],\n",
       " [580, 583],\n",
       " [584, 587],\n",
       " [588, 591],\n",
       " [592, 595],\n",
       " [596, 599],\n",
       " [600, 603],\n",
       " [604, 607],\n",
       " [608, 611],\n",
       " [612, 615],\n",
       " [616, 619],\n",
       " [620, 623],\n",
       " [624, 627],\n",
       " [628, 631],\n",
       " [632, 635],\n",
       " [636, 639],\n",
       " [640, 643],\n",
       " [644, 647],\n",
       " [648, 653],\n",
       " [650, 655],\n",
       " [656, 661],\n",
       " [658, 663],\n",
       " [664, 669],\n",
       " [666, 671],\n",
       " [672, 677],\n",
       " [674, 679],\n",
       " [680, 683],\n",
       " [684, 687],\n",
       " [688, 691],\n",
       " [692, 695],\n",
       " [696, 699],\n",
       " [700, 703],\n",
       " [704, 707],\n",
       " [708, 711],\n",
       " [712, 715],\n",
       " [716, 719],\n",
       " [720, 723],\n",
       " [724, 727],\n",
       " [728, 731],\n",
       " [732, 735],\n",
       " [736, 739],\n",
       " [740, 743],\n",
       " [744, 747],\n",
       " [748, 751],\n",
       " [752, 755],\n",
       " [756, 759],\n",
       " [760, 763],\n",
       " [764, 769],\n",
       " [766, 771],\n",
       " [772, 777],\n",
       " [774, 779],\n",
       " [780, 785],\n",
       " [782, 787],\n",
       " [788, 791],\n",
       " [792, 795],\n",
       " [796, 799],\n",
       " [800, 803],\n",
       " [804, 807],\n",
       " [808, 811],\n",
       " [812, 815],\n",
       " [816, 819],\n",
       " [820, 823],\n",
       " [824, 827],\n",
       " [828, 831],\n",
       " [832, 835],\n",
       " [836, 839]]"
      ]
     },
     "execution_count": 5,
     "metadata": {},
     "output_type": "execute_result"
    }
   ],
   "execution_count": 5
  },
  {
   "metadata": {
    "ExecuteTime": {
     "end_time": "2025-03-29T06:07:45.223707Z",
     "start_time": "2025-03-29T06:07:45.209079Z"
    }
   },
   "cell_type": "code",
   "source": [
    "def _is_pt_in_bbox(bbox, pt):\n",
    "    x1, y1, x2, y2 = bbox\n",
    "    return x1 <= pt[0] <= x2 and y1 <= pt[1] <= y2\n",
    "\n",
    "def _is_bbox_in_bbox(bbox1, bbox2):\n",
    "    \"\"\"\n",
    "    判断bbox1中是否存在bbox2，即判断Bbox2的四个点是否至少有一个存在bbox1中\n",
    "    :param bbox1:\n",
    "    :param bbox2:\n",
    "    :return:\n",
    "    \"\"\"\n",
    "    x3, y3, x4, y4 = bbox2\n",
    "    pt1 = (x3, y3)\n",
    "    pt2 = (x3, y4)\n",
    "    pt3 = (x4, y3)\n",
    "    pt4 = (x4, y4)\n",
    "    return _is_pt_in_bbox(bbox1, pt1) or _is_pt_in_bbox(bbox1, pt2) or _is_pt_in_bbox(bbox1, pt3) or _is_pt_in_bbox(bbox1, pt4)\n",
    "\n",
    "gt_bboxes = [[0, pts[idx1][0], pts[idx1][1], pts[idx2][0], pts[idx2][1]] for idx1, idx2 in pairs]\n",
    "len(gt_bboxes)"
   ],
   "id": "a723e9136120c489",
   "outputs": [
    {
     "data": {
      "text/plain": [
       "210"
      ]
     },
     "execution_count": 13,
     "metadata": {},
     "output_type": "execute_result"
    }
   ],
   "execution_count": 13
  },
  {
   "metadata": {
    "ExecuteTime": {
     "end_time": "2025-03-29T06:08:47.096731Z",
     "start_time": "2025-03-29T06:08:45.097848Z"
    }
   },
   "cell_type": "code",
   "source": [
    "ori_img_name = \"4\"\n",
    "data_json = []\n",
    "max_padding = 50\n",
    "for group in groups:\n",
    "    x1, y1 = get_min_coord(group)\n",
    "    x2, y2 = get_max_coord(group)\n",
    "    patch_coord = (x1 - randint(0, max_padding), y1 - randint(0, max_padding),\n",
    "                   x2 + randint(0, max_padding), y2 + randint(0, max_padding))\n",
    "\n",
    "    bboxes = []\n",
    "    for gt_bbox in gt_bboxes:\n",
    "        if _is_bbox_in_bbox(patch_coord, (gt_bbox[1], gt_bbox[2], gt_bbox[3], gt_bbox[4])):\n",
    "            bboxes.append({\n",
    "                \"class\": gt_bbox[0],\n",
    "                \"bbox\": gt_bbox[1:]\n",
    "            })\n",
    "    data_json.append({\n",
    "        \"ori_img_name\": ori_img_name,\n",
    "        \"patch_coord\": patch_coord,\n",
    "        \"group\": group,\n",
    "        \"bboxes\": bboxes\n",
    "    })"
   ],
   "id": "38d182d725d45034",
   "outputs": [],
   "execution_count": 15
  },
  {
   "metadata": {
    "ExecuteTime": {
     "end_time": "2025-03-29T06:15:28.517766Z",
     "start_time": "2025-03-29T06:15:27.994921Z"
    }
   },
   "cell_type": "code",
   "source": [
    "# data_json\n",
    "import json\n",
    "json.dump(data_json, open(\"data/one/data1.json\", \"w\"))"
   ],
   "id": "b4f53ad4f9822fb7",
   "outputs": [],
   "execution_count": 20
  },
  {
   "metadata": {
    "ExecuteTime": {
     "end_time": "2025-03-29T05:43:30.282079Z",
     "start_time": "2025-03-29T05:43:30.267947Z"
    }
   },
   "cell_type": "code",
   "source": [
    "\"\"\"\n",
    "ori_img_name: 4\n",
    "patch_coord: ((1000, 2000), (1000, 2000))\n",
    "group: [[], ..., []]\n",
    "bboxes: [{\n",
    "    class: 0\n",
    "    bbox: [x1, y1, x2, y2]\n",
    "}, ..., {}]\n",
    "\"\"\""
   ],
   "id": "a8c11e35acbf657b",
   "outputs": [],
   "execution_count": null
  },
  {
   "metadata": {
    "ExecuteTime": {
     "end_time": "2025-03-29T05:43:30.453746Z",
     "start_time": "2025-03-29T05:43:30.436208Z"
    }
   },
   "cell_type": "code",
   "source": "",
   "id": "2de59bae00c83b68",
   "outputs": [],
   "execution_count": null
  },
  {
   "metadata": {},
   "cell_type": "code",
   "outputs": [],
   "execution_count": null,
   "source": "",
   "id": "f1fbf492316163e7"
  }
 ],
 "metadata": {
  "kernelspec": {
   "display_name": "Python 3",
   "language": "python",
   "name": "python3"
  },
  "language_info": {
   "codemirror_mode": {
    "name": "ipython",
    "version": 2
   },
   "file_extension": ".py",
   "mimetype": "text/x-python",
   "name": "python",
   "nbconvert_exporter": "python",
   "pygments_lexer": "ipython2",
   "version": "2.7.6"
  }
 },
 "nbformat": 4,
 "nbformat_minor": 5
}
